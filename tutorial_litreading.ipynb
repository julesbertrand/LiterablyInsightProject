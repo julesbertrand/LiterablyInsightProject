{
 "cells": [
  {
   "cell_type": "code",
   "execution_count": 1,
   "metadata": {},
   "outputs": [],
   "source": [
    "import pandas as pd\n",
    "import numpy as np"
   ]
  },
  {
   "cell_type": "code",
   "execution_count": 2,
   "metadata": {},
   "outputs": [],
   "source": [
    "from litreading.grade import DataGrader, grade_wcpm\n",
    "from litreading.train import ModelTrainer\n",
    "from litreading.config import SEED"
   ]
  },
  {
   "cell_type": "markdown",
   "metadata": {},
   "source": [
    "## 1. Open Data as pandas dataframe"
   ]
  },
  {
   "cell_type": "code",
   "execution_count": 3,
   "metadata": {},
   "outputs": [
    {
     "data": {
      "text/html": [
       "<div>\n",
       "<style scoped>\n",
       "    .dataframe tbody tr th:only-of-type {\n",
       "        vertical-align: middle;\n",
       "    }\n",
       "\n",
       "    .dataframe tbody tr th {\n",
       "        vertical-align: top;\n",
       "    }\n",
       "\n",
       "    .dataframe thead th {\n",
       "        text-align: right;\n",
       "    }\n",
       "</style>\n",
       "<table border=\"1\" class=\"dataframe\">\n",
       "  <thead>\n",
       "    <tr style=\"text-align: right;\">\n",
       "      <th></th>\n",
       "      <th>human_wcpm</th>\n",
       "      <th>human_transcript</th>\n",
       "      <th>asr_transcript</th>\n",
       "      <th>prompt</th>\n",
       "      <th>scored_duration</th>\n",
       "    </tr>\n",
       "  </thead>\n",
       "  <tbody>\n",
       "    <tr>\n",
       "      <th>0</th>\n",
       "      <td>107</td>\n",
       "      <td>every night at bedtime ben told stories to his...</td>\n",
       "      <td>bigfoot every night at bedtime ben told storie...</td>\n",
       "      <td>every night at bedtime ben told stories to his...</td>\n",
       "      <td>60.0</td>\n",
       "    </tr>\n",
       "    <tr>\n",
       "      <th>1</th>\n",
       "      <td>128</td>\n",
       "      <td>once upon a time there was an elephant who liv...</td>\n",
       "      <td>once upon a time there was an elephant who liv...</td>\n",
       "      <td>once upon a time there was an elephant who liv...</td>\n",
       "      <td>60.0</td>\n",
       "    </tr>\n",
       "    <tr>\n",
       "      <th>2</th>\n",
       "      <td>88</td>\n",
       "      <td>today's the big day said ruth what big day ask...</td>\n",
       "      <td>today's the big day said ruth what big day ask...</td>\n",
       "      <td>today's the big day said ruth what big day ask...</td>\n",
       "      <td>60.0</td>\n",
       "    </tr>\n",
       "    <tr>\n",
       "      <th>3</th>\n",
       "      <td>109</td>\n",
       "      <td>once upon a time there was an elephant who liv...</td>\n",
       "      <td>once upon a time there was an elephant who liv...</td>\n",
       "      <td>once upon a time there was an elephant who liv...</td>\n",
       "      <td>60.0</td>\n",
       "    </tr>\n",
       "    <tr>\n",
       "      <th>4</th>\n",
       "      <td>127</td>\n",
       "      <td>last summer my daddy went wait no last summer ...</td>\n",
       "      <td>last summer my daddy went to last summer my da...</td>\n",
       "      <td>last summer my daddy sent me to the store for ...</td>\n",
       "      <td>60.0</td>\n",
       "    </tr>\n",
       "  </tbody>\n",
       "</table>\n",
       "</div>"
      ],
      "text/plain": [
       "   human_wcpm                                   human_transcript  \\\n",
       "0         107  every night at bedtime ben told stories to his...   \n",
       "1         128  once upon a time there was an elephant who liv...   \n",
       "2          88  today's the big day said ruth what big day ask...   \n",
       "3         109  once upon a time there was an elephant who liv...   \n",
       "4         127  last summer my daddy went wait no last summer ...   \n",
       "\n",
       "                                      asr_transcript  \\\n",
       "0  bigfoot every night at bedtime ben told storie...   \n",
       "1  once upon a time there was an elephant who liv...   \n",
       "2  today's the big day said ruth what big day ask...   \n",
       "3  once upon a time there was an elephant who liv...   \n",
       "4  last summer my daddy went to last summer my da...   \n",
       "\n",
       "                                              prompt  scored_duration  \n",
       "0  every night at bedtime ben told stories to his...             60.0  \n",
       "1  once upon a time there was an elephant who liv...             60.0  \n",
       "2  today's the big day said ruth what big day ask...             60.0  \n",
       "3  once upon a time there was an elephant who liv...             60.0  \n",
       "4  last summer my daddy sent me to the store for ...             60.0  "
      ]
     },
     "execution_count": 3,
     "metadata": {},
     "output_type": "execute_result"
    }
   ],
   "source": [
    "df = pd.read_csv(\"./data/larger_wcpm.csv\")\n",
    "df.head()"
   ]
  },
  {
   "cell_type": "markdown",
   "metadata": {},
   "source": [
    "## 2. Predict grades based on already trained models"
   ]
  },
  {
   "cell_type": "markdown",
   "metadata": {},
   "source": [
    "### 2.1 With function"
   ]
  },
  {
   "cell_type": "code",
   "execution_count": 4,
   "metadata": {},
   "outputs": [
    {
     "name": "stderr",
     "output_type": "stream",
     "text": [
      "2020-10-14 08:34:02,653 root         INFO     Loading model from ./litreading/models/XGB.joblib\n"
     ]
    },
    {
     "data": {
      "text/html": [
       "<div>\n",
       "<style scoped>\n",
       "    .dataframe tbody tr th:only-of-type {\n",
       "        vertical-align: middle;\n",
       "    }\n",
       "\n",
       "    .dataframe tbody tr th {\n",
       "        vertical-align: top;\n",
       "    }\n",
       "\n",
       "    .dataframe thead th {\n",
       "        text-align: right;\n",
       "    }\n",
       "</style>\n",
       "<table border=\"1\" class=\"dataframe\">\n",
       "  <thead>\n",
       "    <tr style=\"text-align: right;\">\n",
       "      <th></th>\n",
       "      <th>human_wcpm</th>\n",
       "      <th>human_transcript</th>\n",
       "      <th>asr_transcript</th>\n",
       "      <th>prompt</th>\n",
       "      <th>scored_duration</th>\n",
       "      <th>wcpm_estimation</th>\n",
       "    </tr>\n",
       "  </thead>\n",
       "  <tbody>\n",
       "    <tr>\n",
       "      <th>0</th>\n",
       "      <td>107</td>\n",
       "      <td>every night at bedtime ben told stories to his...</td>\n",
       "      <td>bigfoot every night at bedtime ben told storie...</td>\n",
       "      <td>every night at bedtime ben told stories to his...</td>\n",
       "      <td>60.0</td>\n",
       "      <td>100.0</td>\n",
       "    </tr>\n",
       "    <tr>\n",
       "      <th>1</th>\n",
       "      <td>128</td>\n",
       "      <td>once upon a time there was an elephant who liv...</td>\n",
       "      <td>once upon a time there was an elephant who liv...</td>\n",
       "      <td>once upon a time there was an elephant who liv...</td>\n",
       "      <td>60.0</td>\n",
       "      <td>126.1</td>\n",
       "    </tr>\n",
       "    <tr>\n",
       "      <th>2</th>\n",
       "      <td>88</td>\n",
       "      <td>today's the big day said ruth what big day ask...</td>\n",
       "      <td>today's the big day said ruth what big day ask...</td>\n",
       "      <td>today's the big day said ruth what big day ask...</td>\n",
       "      <td>60.0</td>\n",
       "      <td>89.8</td>\n",
       "    </tr>\n",
       "    <tr>\n",
       "      <th>3</th>\n",
       "      <td>109</td>\n",
       "      <td>once upon a time there was an elephant who liv...</td>\n",
       "      <td>once upon a time there was an elephant who liv...</td>\n",
       "      <td>once upon a time there was an elephant who liv...</td>\n",
       "      <td>60.0</td>\n",
       "      <td>111.7</td>\n",
       "    </tr>\n",
       "    <tr>\n",
       "      <th>4</th>\n",
       "      <td>127</td>\n",
       "      <td>last summer my daddy went wait no last summer ...</td>\n",
       "      <td>last summer my daddy went to last summer my da...</td>\n",
       "      <td>last summer my daddy sent me to the store for ...</td>\n",
       "      <td>60.0</td>\n",
       "      <td>126.7</td>\n",
       "    </tr>\n",
       "  </tbody>\n",
       "</table>\n",
       "</div>"
      ],
      "text/plain": [
       "   human_wcpm                                   human_transcript  \\\n",
       "0         107  every night at bedtime ben told stories to his...   \n",
       "1         128  once upon a time there was an elephant who liv...   \n",
       "2          88  today's the big day said ruth what big day ask...   \n",
       "3         109  once upon a time there was an elephant who liv...   \n",
       "4         127  last summer my daddy went wait no last summer ...   \n",
       "\n",
       "                                      asr_transcript  \\\n",
       "0  bigfoot every night at bedtime ben told storie...   \n",
       "1  once upon a time there was an elephant who liv...   \n",
       "2  today's the big day said ruth what big day ask...   \n",
       "3  once upon a time there was an elephant who liv...   \n",
       "4  last summer my daddy went to last summer my da...   \n",
       "\n",
       "                                              prompt  scored_duration  \\\n",
       "0  every night at bedtime ben told stories to his...             60.0   \n",
       "1  once upon a time there was an elephant who liv...             60.0   \n",
       "2  today's the big day said ruth what big day ask...             60.0   \n",
       "3  once upon a time there was an elephant who liv...             60.0   \n",
       "4  last summer my daddy sent me to the store for ...             60.0   \n",
       "\n",
       "   wcpm_estimation  \n",
       "0            100.0  \n",
       "1            126.1  \n",
       "2             89.8  \n",
       "3            111.7  \n",
       "4            126.7  "
      ]
     },
     "execution_count": 4,
     "metadata": {},
     "output_type": "execute_result"
    }
   ],
   "source": [
    "grades = grade_wcpm(df.loc[:50])\n",
    "grades.head()"
   ]
  },
  {
   "cell_type": "markdown",
   "metadata": {},
   "source": [
    "### 2.2 Instanciate DataGrader"
   ]
  },
  {
   "cell_type": "code",
   "execution_count": 5,
   "metadata": {},
   "outputs": [
    {
     "name": "stderr",
     "output_type": "stream",
     "text": [
      "2020-10-14 08:34:02,875 root         INFO     Loading model from ./litreading/models/XGB.joblib\n"
     ]
    }
   ],
   "source": [
    "grader = DataGrader(df.loc[:50],  # mandatory\n",
    "                    model_type='XGB',  # optional, default XGB\n",
    "                    prompt_col='prompt',  # optional, default 'prompt'\n",
    "                    asr_col='asr_transcript',  # optional, default 'asr_transcript'\n",
    "                    duration_col='scored_duration',  # optional, default 'scored_duration'\n",
    "                   )\n"
   ]
  },
  {
   "cell_type": "markdown",
   "metadata": {},
   "source": [
    "#### Option 1: use grade_wcpm method\n",
    "Same as using grade_wcpm function, but you have access to the DataGrader instance after if you want to modify something"
   ]
  },
  {
   "cell_type": "code",
   "execution_count": 6,
   "metadata": {},
   "outputs": [
    {
     "data": {
      "text/html": [
       "<div>\n",
       "<style scoped>\n",
       "    .dataframe tbody tr th:only-of-type {\n",
       "        vertical-align: middle;\n",
       "    }\n",
       "\n",
       "    .dataframe tbody tr th {\n",
       "        vertical-align: top;\n",
       "    }\n",
       "\n",
       "    .dataframe thead th {\n",
       "        text-align: right;\n",
       "    }\n",
       "</style>\n",
       "<table border=\"1\" class=\"dataframe\">\n",
       "  <thead>\n",
       "    <tr style=\"text-align: right;\">\n",
       "      <th></th>\n",
       "      <th>prompt</th>\n",
       "      <th>asr_transcript</th>\n",
       "      <th>human_wcpm</th>\n",
       "      <th>wcpm_estimation</th>\n",
       "    </tr>\n",
       "  </thead>\n",
       "  <tbody>\n",
       "    <tr>\n",
       "      <th>0</th>\n",
       "      <td>every night at bedtime ben told stories to his...</td>\n",
       "      <td>bigfoot every night at bedtime ben told storie...</td>\n",
       "      <td>107</td>\n",
       "      <td>100.0</td>\n",
       "    </tr>\n",
       "    <tr>\n",
       "      <th>1</th>\n",
       "      <td>once upon a time there was an elephant who liv...</td>\n",
       "      <td>once upon a time there was an elephant who liv...</td>\n",
       "      <td>128</td>\n",
       "      <td>126.1</td>\n",
       "    </tr>\n",
       "    <tr>\n",
       "      <th>2</th>\n",
       "      <td>today's the big day said ruth what big day ask...</td>\n",
       "      <td>today's the big day said ruth what big day ask...</td>\n",
       "      <td>88</td>\n",
       "      <td>89.8</td>\n",
       "    </tr>\n",
       "    <tr>\n",
       "      <th>3</th>\n",
       "      <td>once upon a time there was an elephant who liv...</td>\n",
       "      <td>once upon a time there was an elephant who liv...</td>\n",
       "      <td>109</td>\n",
       "      <td>111.7</td>\n",
       "    </tr>\n",
       "    <tr>\n",
       "      <th>4</th>\n",
       "      <td>last summer my daddy sent me to the store for ...</td>\n",
       "      <td>last summer my daddy went to last summer my da...</td>\n",
       "      <td>127</td>\n",
       "      <td>126.7</td>\n",
       "    </tr>\n",
       "  </tbody>\n",
       "</table>\n",
       "</div>"
      ],
      "text/plain": [
       "                                              prompt  \\\n",
       "0  every night at bedtime ben told stories to his...   \n",
       "1  once upon a time there was an elephant who liv...   \n",
       "2  today's the big day said ruth what big day ask...   \n",
       "3  once upon a time there was an elephant who liv...   \n",
       "4  last summer my daddy sent me to the store for ...   \n",
       "\n",
       "                                      asr_transcript  human_wcpm  \\\n",
       "0  bigfoot every night at bedtime ben told storie...         107   \n",
       "1  once upon a time there was an elephant who liv...         128   \n",
       "2  today's the big day said ruth what big day ask...          88   \n",
       "3  once upon a time there was an elephant who liv...         109   \n",
       "4  last summer my daddy went to last summer my da...         127   \n",
       "\n",
       "   wcpm_estimation  \n",
       "0            100.0  \n",
       "1            126.1  \n",
       "2             89.8  \n",
       "3            111.7  \n",
       "4            126.7  "
      ]
     },
     "execution_count": 6,
     "metadata": {},
     "output_type": "execute_result"
    }
   ],
   "source": [
    "grades = grader.grade_wcpm(only_wcpm=False)  # optional, default False. If True, returns only the wcpm estimation\n",
    "grades[['prompt', 'asr_transcript', 'human_wcpm', 'wcpm_estimation']].head()"
   ]
  },
  {
   "cell_type": "markdown",
   "metadata": {},
   "source": [
    "#### Option 2: step-by-step grading to choose different options such as preprocessing steps\n",
    "\n",
    "Default preprocessing steps are specified in the `config.py` file. Hence they will be used by default for both prediction and training if need be."
   ]
  },
  {
   "cell_type": "code",
   "execution_count": 7,
   "metadata": {},
   "outputs": [],
   "source": [
    "grader.preprocess_data(lowercase=True,  # optional, default True\n",
    "                       punctuation_free=True,  # optional, default True\n",
    "                       convert_num2words=True,  # optional, default True\n",
    "                       asr_string_recomposition=False,  # optional, default False\n",
    "                       inplace=True  # optional, default False\n",
    "                      )\n",
    "\n",
    "grader.compute_features(inplace=True)  # optional, default False\n",
    "grades = grader.estimate_wcpm(inplace=False) # optional, default False "
   ]
  },
  {
   "cell_type": "markdown",
   "metadata": {},
   "source": [
    "Retrieve only the grades:"
   ]
  },
  {
   "cell_type": "code",
   "execution_count": 8,
   "metadata": {},
   "outputs": [
    {
     "data": {
      "text/plain": [
       "0    100.0\n",
       "1    126.1\n",
       "2     89.8\n",
       "3    111.7\n",
       "4    126.7\n",
       "Name: wcpm_estimation, dtype: float64"
      ]
     },
     "execution_count": 8,
     "metadata": {},
     "output_type": "execute_result"
    }
   ],
   "source": [
    "grades.head()"
   ]
  },
  {
   "cell_type": "markdown",
   "metadata": {},
   "source": [
    "Retrieve the whole dataframe:"
   ]
  },
  {
   "cell_type": "code",
   "execution_count": 9,
   "metadata": {},
   "outputs": [
    {
     "data": {
      "text/html": [
       "<div>\n",
       "<style scoped>\n",
       "    .dataframe tbody tr th:only-of-type {\n",
       "        vertical-align: middle;\n",
       "    }\n",
       "\n",
       "    .dataframe tbody tr th {\n",
       "        vertical-align: top;\n",
       "    }\n",
       "\n",
       "    .dataframe thead th {\n",
       "        text-align: right;\n",
       "    }\n",
       "</style>\n",
       "<table border=\"1\" class=\"dataframe\">\n",
       "  <thead>\n",
       "    <tr style=\"text-align: right;\">\n",
       "      <th></th>\n",
       "      <th>human_wcpm</th>\n",
       "      <th>human_transcript</th>\n",
       "      <th>asr_transcript</th>\n",
       "      <th>prompt</th>\n",
       "      <th>scored_duration</th>\n",
       "      <th>wcpm_estimation</th>\n",
       "    </tr>\n",
       "  </thead>\n",
       "  <tbody>\n",
       "    <tr>\n",
       "      <th>0</th>\n",
       "      <td>107</td>\n",
       "      <td>every night at bedtime ben told stories to his...</td>\n",
       "      <td>bigfoot every night at bedtime ben told storie...</td>\n",
       "      <td>every night at bedtime ben told stories to his...</td>\n",
       "      <td>60.0</td>\n",
       "      <td>100.0</td>\n",
       "    </tr>\n",
       "    <tr>\n",
       "      <th>1</th>\n",
       "      <td>128</td>\n",
       "      <td>once upon a time there was an elephant who liv...</td>\n",
       "      <td>once upon a time there was an elephant who liv...</td>\n",
       "      <td>once upon a time there was an elephant who liv...</td>\n",
       "      <td>60.0</td>\n",
       "      <td>126.1</td>\n",
       "    </tr>\n",
       "    <tr>\n",
       "      <th>2</th>\n",
       "      <td>88</td>\n",
       "      <td>today's the big day said ruth what big day ask...</td>\n",
       "      <td>today's the big day said ruth what big day ask...</td>\n",
       "      <td>today's the big day said ruth what big day ask...</td>\n",
       "      <td>60.0</td>\n",
       "      <td>89.8</td>\n",
       "    </tr>\n",
       "    <tr>\n",
       "      <th>3</th>\n",
       "      <td>109</td>\n",
       "      <td>once upon a time there was an elephant who liv...</td>\n",
       "      <td>once upon a time there was an elephant who liv...</td>\n",
       "      <td>once upon a time there was an elephant who liv...</td>\n",
       "      <td>60.0</td>\n",
       "      <td>111.7</td>\n",
       "    </tr>\n",
       "    <tr>\n",
       "      <th>4</th>\n",
       "      <td>127</td>\n",
       "      <td>last summer my daddy went wait no last summer ...</td>\n",
       "      <td>last summer my daddy went to last summer my da...</td>\n",
       "      <td>last summer my daddy sent me to the store for ...</td>\n",
       "      <td>60.0</td>\n",
       "      <td>126.7</td>\n",
       "    </tr>\n",
       "  </tbody>\n",
       "</table>\n",
       "</div>"
      ],
      "text/plain": [
       "   human_wcpm                                   human_transcript  \\\n",
       "0         107  every night at bedtime ben told stories to his...   \n",
       "1         128  once upon a time there was an elephant who liv...   \n",
       "2          88  today's the big day said ruth what big day ask...   \n",
       "3         109  once upon a time there was an elephant who liv...   \n",
       "4         127  last summer my daddy went wait no last summer ...   \n",
       "\n",
       "                                      asr_transcript  \\\n",
       "0  bigfoot every night at bedtime ben told storie...   \n",
       "1  once upon a time there was an elephant who liv...   \n",
       "2  today's the big day said ruth what big day ask...   \n",
       "3  once upon a time there was an elephant who liv...   \n",
       "4  last summer my daddy went to last summer my da...   \n",
       "\n",
       "                                              prompt  scored_duration  \\\n",
       "0  every night at bedtime ben told stories to his...             60.0   \n",
       "1  once upon a time there was an elephant who liv...             60.0   \n",
       "2  today's the big day said ruth what big day ask...             60.0   \n",
       "3  once upon a time there was an elephant who liv...             60.0   \n",
       "4  last summer my daddy sent me to the store for ...             60.0   \n",
       "\n",
       "   wcpm_estimation  \n",
       "0            100.0  \n",
       "1            126.1  \n",
       "2             89.8  \n",
       "3            111.7  \n",
       "4            126.7  "
      ]
     },
     "execution_count": 9,
     "metadata": {},
     "output_type": "execute_result"
    }
   ],
   "source": [
    "grader.get_data().head()"
   ]
  },
  {
   "cell_type": "markdown",
   "metadata": {},
   "source": [
    "## 3. Train a model"
   ]
  },
  {
   "cell_type": "markdown",
   "metadata": {},
   "source": [
    "### 3.1 Train a model with default params"
   ]
  },
  {
   "cell_type": "markdown",
   "metadata": {},
   "source": [
    "#### 3.1.a Instanciate\n",
    "Instanciate ModelTrainer and preprocess the data. You have to choose several parameters that are all listed here. You have to choose between Random Forest ('RF'), XGBoost('XGB') and K nearest neighbors ('KNN'). You will be able to change it after without re processing the data using the set_new_model(model_type, params) method."
   ]
  },
  {
   "cell_type": "code",
   "execution_count": 10,
   "metadata": {},
   "outputs": [
    {
     "name": "stderr",
     "output_type": "stream",
     "text": [
      "2020-10-14 08:34:03,333 root         INFO     New model set: XGB\n"
     ]
    }
   ],
   "source": [
    "config = {\n",
    "    'model_type': 'XGB',  # available: 'Baseline', 'RF', 'KNN', 'XGB'\n",
    "    'remove_outliers': True,\n",
    "    'outliers_tol': .15,  # default is .2\n",
    "    'test_set_size': .2,\n",
    "    'seed': SEED\n",
    "}\n",
    "\n",
    "# Instanciate the trainer\n",
    "trainer = ModelTrainer(df,  # mandatory\n",
    "                       model_type = config['model_type']  # optional, default 'XGB'\n",
    "                      )"
   ]
  },
  {
   "cell_type": "markdown",
   "metadata": {},
   "source": [
    "#### 3.1.b Training and test sets and feature computation\n",
    "Prepare the training and test sets. You have the choice to remove outliers or not. Here, outliers are defined as data points where the number of words in th asr transcript and the human transcript defer by more than `outliers_tol` in percentage. \n",
    "\n",
    "e.g.: 100 words in asr transcript, 115 in human transcript: absolute difference of 15%. The datapoint will be removed with `outliers_tol=.1`, kept with `outliers_tol=.2`"
   ]
  },
  {
   "cell_type": "code",
   "execution_count": 11,
   "metadata": {},
   "outputs": [
    {
     "name": "stderr",
     "output_type": "stream",
     "text": [
      "2020-10-14 08:34:14,133 root         INFO     Removed 166 outliers, 2876 datapoints remaining for training/testing\n"
     ]
    }
   ],
   "source": [
    "trainer.prepare_train_test_set(remove_outliers=config['remove_outliers'],  # optional, default False\n",
    "                               outliers_tol=config['outliers_tol'],  # optional, default .2, used if remove_outliers=True,\n",
    "                               test_set_size=config['test_set_size'],  # optional, default .2\n",
    "                               inplace=True  # optional, default True\n",
    "                              )"
   ]
  },
  {
   "cell_type": "markdown",
   "metadata": {},
   "source": [
    "Take a look at the features used to estimate the wcpm (after standard scaling), plus label 'human_wc':"
   ]
  },
  {
   "cell_type": "code",
   "execution_count": 12,
   "metadata": {},
   "outputs": [
    {
     "data": {
      "text/html": [
       "<div>\n",
       "<style scoped>\n",
       "    .dataframe tbody tr th:only-of-type {\n",
       "        vertical-align: middle;\n",
       "    }\n",
       "\n",
       "    .dataframe tbody tr th {\n",
       "        vertical-align: top;\n",
       "    }\n",
       "\n",
       "    .dataframe thead th {\n",
       "        text-align: right;\n",
       "    }\n",
       "</style>\n",
       "<table border=\"1\" class=\"dataframe\">\n",
       "  <thead>\n",
       "    <tr style=\"text-align: right;\">\n",
       "      <th></th>\n",
       "      <th>correct_words_pm</th>\n",
       "      <th>added_words_pm</th>\n",
       "      <th>removed_words_pm</th>\n",
       "      <th>replaced_words_pm</th>\n",
       "      <th>asr_word_count_pm</th>\n",
       "      <th>prompt_avg_word_length</th>\n",
       "      <th>prompt_std_word_length</th>\n",
       "      <th>asr_avg_word_length</th>\n",
       "      <th>asr_std_word_length</th>\n",
       "      <th>human_wcpm</th>\n",
       "    </tr>\n",
       "  </thead>\n",
       "  <tbody>\n",
       "    <tr>\n",
       "      <th>count</th>\n",
       "      <td>2876.000000</td>\n",
       "      <td>2876.000000</td>\n",
       "      <td>2876.000000</td>\n",
       "      <td>2876.000000</td>\n",
       "      <td>2876.000000</td>\n",
       "      <td>2876.000000</td>\n",
       "      <td>2876.000000</td>\n",
       "      <td>2876.000000</td>\n",
       "      <td>2876.000000</td>\n",
       "      <td>2876.000000</td>\n",
       "    </tr>\n",
       "    <tr>\n",
       "      <th>mean</th>\n",
       "      <td>107.682377</td>\n",
       "      <td>9.626946</td>\n",
       "      <td>11.225832</td>\n",
       "      <td>3.795793</td>\n",
       "      <td>117.619406</td>\n",
       "      <td>4.217915</td>\n",
       "      <td>1.969704</td>\n",
       "      <td>4.129150</td>\n",
       "      <td>1.882962</td>\n",
       "      <td>109.109875</td>\n",
       "    </tr>\n",
       "    <tr>\n",
       "      <th>std</th>\n",
       "      <td>36.296089</td>\n",
       "      <td>6.614929</td>\n",
       "      <td>24.599078</td>\n",
       "      <td>3.765989</td>\n",
       "      <td>36.515448</td>\n",
       "      <td>0.513844</td>\n",
       "      <td>0.369361</td>\n",
       "      <td>0.536421</td>\n",
       "      <td>0.359985</td>\n",
       "      <td>37.148994</td>\n",
       "    </tr>\n",
       "    <tr>\n",
       "      <th>min</th>\n",
       "      <td>0.000000</td>\n",
       "      <td>0.000000</td>\n",
       "      <td>0.000000</td>\n",
       "      <td>0.000000</td>\n",
       "      <td>0.803732</td>\n",
       "      <td>2.357000</td>\n",
       "      <td>0.667000</td>\n",
       "      <td>2.000000</td>\n",
       "      <td>0.000000</td>\n",
       "      <td>0.000000</td>\n",
       "    </tr>\n",
       "    <tr>\n",
       "      <th>25%</th>\n",
       "      <td>85.000000</td>\n",
       "      <td>5.000000</td>\n",
       "      <td>2.000000</td>\n",
       "      <td>1.000000</td>\n",
       "      <td>95.582619</td>\n",
       "      <td>4.040000</td>\n",
       "      <td>1.855000</td>\n",
       "      <td>3.914750</td>\n",
       "      <td>1.691750</td>\n",
       "      <td>86.000000</td>\n",
       "    </tr>\n",
       "    <tr>\n",
       "      <th>50%</th>\n",
       "      <td>112.000000</td>\n",
       "      <td>8.302016</td>\n",
       "      <td>4.553308</td>\n",
       "      <td>3.000000</td>\n",
       "      <td>122.000000</td>\n",
       "      <td>4.258000</td>\n",
       "      <td>1.993000</td>\n",
       "      <td>4.179000</td>\n",
       "      <td>1.935000</td>\n",
       "      <td>113.000000</td>\n",
       "    </tr>\n",
       "    <tr>\n",
       "      <th>75%</th>\n",
       "      <td>133.000000</td>\n",
       "      <td>13.000000</td>\n",
       "      <td>10.000000</td>\n",
       "      <td>5.000000</td>\n",
       "      <td>142.000000</td>\n",
       "      <td>4.523000</td>\n",
       "      <td>2.229000</td>\n",
       "      <td>4.440000</td>\n",
       "      <td>2.114250</td>\n",
       "      <td>134.250000</td>\n",
       "    </tr>\n",
       "    <tr>\n",
       "      <th>max</th>\n",
       "      <td>219.591194</td>\n",
       "      <td>78.000000</td>\n",
       "      <td>284.654213</td>\n",
       "      <td>41.000000</td>\n",
       "      <td>253.000000</td>\n",
       "      <td>5.207000</td>\n",
       "      <td>2.757000</td>\n",
       "      <td>5.429000</td>\n",
       "      <td>2.985000</td>\n",
       "      <td>259.000000</td>\n",
       "    </tr>\n",
       "  </tbody>\n",
       "</table>\n",
       "</div>"
      ],
      "text/plain": [
       "       correct_words_pm  added_words_pm  removed_words_pm  replaced_words_pm  \\\n",
       "count       2876.000000     2876.000000       2876.000000        2876.000000   \n",
       "mean         107.682377        9.626946         11.225832           3.795793   \n",
       "std           36.296089        6.614929         24.599078           3.765989   \n",
       "min            0.000000        0.000000          0.000000           0.000000   \n",
       "25%           85.000000        5.000000          2.000000           1.000000   \n",
       "50%          112.000000        8.302016          4.553308           3.000000   \n",
       "75%          133.000000       13.000000         10.000000           5.000000   \n",
       "max          219.591194       78.000000        284.654213          41.000000   \n",
       "\n",
       "       asr_word_count_pm  prompt_avg_word_length  prompt_std_word_length  \\\n",
       "count        2876.000000             2876.000000             2876.000000   \n",
       "mean          117.619406                4.217915                1.969704   \n",
       "std            36.515448                0.513844                0.369361   \n",
       "min             0.803732                2.357000                0.667000   \n",
       "25%            95.582619                4.040000                1.855000   \n",
       "50%           122.000000                4.258000                1.993000   \n",
       "75%           142.000000                4.523000                2.229000   \n",
       "max           253.000000                5.207000                2.757000   \n",
       "\n",
       "       asr_avg_word_length  asr_std_word_length   human_wcpm  \n",
       "count          2876.000000          2876.000000  2876.000000  \n",
       "mean              4.129150             1.882962   109.109875  \n",
       "std               0.536421             0.359985    37.148994  \n",
       "min               2.000000             0.000000     0.000000  \n",
       "25%               3.914750             1.691750    86.000000  \n",
       "50%               4.179000             1.935000   113.000000  \n",
       "75%               4.440000             2.114250   134.250000  \n",
       "max               5.429000             2.985000   259.000000  "
      ]
     },
     "execution_count": 12,
     "metadata": {},
     "output_type": "execute_result"
    }
   ],
   "source": [
    "trainer.features.describe()"
   ]
  },
  {
   "cell_type": "markdown",
   "metadata": {},
   "source": [
    "#### 3.1.c Training\n",
    "Default parameters for all models are scikit-learn default params. If you want to use you own hyperparameters, please use `trainer.set_params(your_own_params_dict)`.\n",
    "We tuned hyperparameters based on data we had and they are stored for all models in the `config.py` file. If you want to use them, please use `trainer.set_params('config_params')`"
   ]
  },
  {
   "cell_type": "code",
   "execution_count": 13,
   "metadata": {},
   "outputs": [
    {
     "data": {
      "text/plain": [
       "{'objective': 'reg:squarederror',\n",
       " 'base_score': None,\n",
       " 'booster': None,\n",
       " 'colsample_bylevel': None,\n",
       " 'colsample_bynode': None,\n",
       " 'colsample_bytree': 0.9,\n",
       " 'gamma': 5,\n",
       " 'gpu_id': None,\n",
       " 'importance_type': 'gain',\n",
       " 'interaction_constraints': None,\n",
       " 'learning_rate': 0.02,\n",
       " 'max_delta_step': None,\n",
       " 'max_depth': 7,\n",
       " 'min_child_weight': None,\n",
       " 'missing': nan,\n",
       " 'monotone_constraints': None,\n",
       " 'n_estimators': 800,\n",
       " 'n_jobs': None,\n",
       " 'num_parallel_tree': None,\n",
       " 'random_state': 105,\n",
       " 'reg_alpha': None,\n",
       " 'reg_lambda': None,\n",
       " 'scale_pos_weight': None,\n",
       " 'subsample': 0.8,\n",
       " 'tree_method': None,\n",
       " 'validate_parameters': None,\n",
       " 'verbosity': None}"
      ]
     },
     "execution_count": 13,
     "metadata": {},
     "output_type": "execute_result"
    }
   ],
   "source": [
    "trainer.model.get_params()\n",
    "trainer.set_model_params('config_params')\n",
    "trainer.model.get_params()"
   ]
  },
  {
   "cell_type": "code",
   "execution_count": 14,
   "metadata": {},
   "outputs": [
    {
     "name": "stderr",
     "output_type": "stream",
     "text": [
      "2020-10-14 08:34:14,238 root         INFO     Training XGB\n"
     ]
    }
   ],
   "source": [
    "trainer.train()"
   ]
  },
  {
   "cell_type": "markdown",
   "metadata": {},
   "source": [
    "#### 3.1.d Evaluate the model\n",
    "Evaluate the model by getting 3 dataframes:\n",
    "- stats with all statistics for all datapoints\n",
    "- summary with statistics like MAE, MAE%, RMSE divided in 3 bins of data per human_wcpm value: -75 words, 75-150, 150+\n",
    "- errors with count and % or errors > 1%, 5%, 10% for the 3 bins of data.\n",
    "\n",
    "You can specify `visualize=True` if you want to have a graph of error distribution. An alternative it to call later `grader.plot_wcpm_distribution()`."
   ]
  },
  {
   "cell_type": "code",
   "execution_count": 15,
   "metadata": {
    "scrolled": false
   },
   "outputs": [
    {
     "data": {
      "image/png": "[encoded data removed]",
      "text/plain": [
       "<Figure size 1152x432 with 1 Axes>"
      ]
     },
     "metadata": {},
     "output_type": "display_data"
    }
   ],
   "source": [
    "stats, summary, errors = trainer.evaluate_model(visualize=True)  # default is True for visualize"
   ]
  },
  {
   "cell_type": "code",
   "execution_count": 16,
   "metadata": {},
   "outputs": [
    {
     "data": {
      "text/html": [
       "<div>\n",
       "<style scoped>\n",
       "    .dataframe tbody tr th:only-of-type {\n",
       "        vertical-align: middle;\n",
       "    }\n",
       "\n",
       "    .dataframe tbody tr th {\n",
       "        vertical-align: top;\n",
       "    }\n",
       "\n",
       "    .dataframe thead th {\n",
       "        text-align: right;\n",
       "    }\n",
       "</style>\n",
       "<table border=\"1\" class=\"dataframe\">\n",
       "  <thead>\n",
       "    <tr style=\"text-align: right;\">\n",
       "      <th></th>\n",
       "      <th>wcpm_estimation</th>\n",
       "      <th>human_wcpm</th>\n",
       "      <th>wcpm_estimation_error</th>\n",
       "      <th>wcpm_estimation_abs_error</th>\n",
       "      <th>wcpm_estimation_error_%</th>\n",
       "      <th>wcpm_estimation_abs_error_%</th>\n",
       "      <th>RMSE</th>\n",
       "      <th>wcpm_bin</th>\n",
       "      <th>Total Count</th>\n",
       "      <th>Error &gt; 1%</th>\n",
       "      <th>Error &gt; 5%</th>\n",
       "      <th>Error &gt; 10%</th>\n",
       "    </tr>\n",
       "  </thead>\n",
       "  <tbody>\n",
       "    <tr>\n",
       "      <th>24</th>\n",
       "      <td>127.014389</td>\n",
       "      <td>128</td>\n",
       "      <td>0.985611</td>\n",
       "      <td>0.985611</td>\n",
       "      <td>0.007700</td>\n",
       "      <td>0.007700</td>\n",
       "      <td>0.971429</td>\n",
       "      <td>75-150</td>\n",
       "      <td>True</td>\n",
       "      <td>False</td>\n",
       "      <td>False</td>\n",
       "      <td>False</td>\n",
       "    </tr>\n",
       "    <tr>\n",
       "      <th>2337</th>\n",
       "      <td>129.550827</td>\n",
       "      <td>130</td>\n",
       "      <td>0.449173</td>\n",
       "      <td>0.449173</td>\n",
       "      <td>0.003455</td>\n",
       "      <td>0.003455</td>\n",
       "      <td>0.201756</td>\n",
       "      <td>75-150</td>\n",
       "      <td>True</td>\n",
       "      <td>False</td>\n",
       "      <td>False</td>\n",
       "      <td>False</td>\n",
       "    </tr>\n",
       "    <tr>\n",
       "      <th>1528</th>\n",
       "      <td>140.973969</td>\n",
       "      <td>143</td>\n",
       "      <td>2.026031</td>\n",
       "      <td>2.026031</td>\n",
       "      <td>0.014168</td>\n",
       "      <td>0.014168</td>\n",
       "      <td>4.104804</td>\n",
       "      <td>75-150</td>\n",
       "      <td>True</td>\n",
       "      <td>True</td>\n",
       "      <td>False</td>\n",
       "      <td>False</td>\n",
       "    </tr>\n",
       "    <tr>\n",
       "      <th>222</th>\n",
       "      <td>53.145142</td>\n",
       "      <td>54</td>\n",
       "      <td>0.854858</td>\n",
       "      <td>0.854858</td>\n",
       "      <td>0.015831</td>\n",
       "      <td>0.015831</td>\n",
       "      <td>0.730783</td>\n",
       "      <td>&lt;75</td>\n",
       "      <td>True</td>\n",
       "      <td>True</td>\n",
       "      <td>False</td>\n",
       "      <td>False</td>\n",
       "    </tr>\n",
       "    <tr>\n",
       "      <th>50</th>\n",
       "      <td>117.806686</td>\n",
       "      <td>117</td>\n",
       "      <td>-0.806686</td>\n",
       "      <td>0.806686</td>\n",
       "      <td>-0.006895</td>\n",
       "      <td>0.006895</td>\n",
       "      <td>0.650743</td>\n",
       "      <td>75-150</td>\n",
       "      <td>True</td>\n",
       "      <td>False</td>\n",
       "      <td>False</td>\n",
       "      <td>False</td>\n",
       "    </tr>\n",
       "  </tbody>\n",
       "</table>\n",
       "</div>"
      ],
      "text/plain": [
       "      wcpm_estimation  human_wcpm  wcpm_estimation_error  \\\n",
       "24         127.014389         128               0.985611   \n",
       "2337       129.550827         130               0.449173   \n",
       "1528       140.973969         143               2.026031   \n",
       "222         53.145142          54               0.854858   \n",
       "50         117.806686         117              -0.806686   \n",
       "\n",
       "      wcpm_estimation_abs_error  wcpm_estimation_error_%  \\\n",
       "24                     0.985611                 0.007700   \n",
       "2337                   0.449173                 0.003455   \n",
       "1528                   2.026031                 0.014168   \n",
       "222                    0.854858                 0.015831   \n",
       "50                     0.806686                -0.006895   \n",
       "\n",
       "      wcpm_estimation_abs_error_%      RMSE wcpm_bin  Total Count  Error > 1%  \\\n",
       "24                       0.007700  0.971429   75-150         True       False   \n",
       "2337                     0.003455  0.201756   75-150         True       False   \n",
       "1528                     0.014168  4.104804   75-150         True        True   \n",
       "222                      0.015831  0.730783      <75         True        True   \n",
       "50                       0.006895  0.650743   75-150         True       False   \n",
       "\n",
       "      Error > 5%  Error > 10%  \n",
       "24         False        False  \n",
       "2337       False        False  \n",
       "1528       False        False  \n",
       "222        False        False  \n",
       "50         False        False  "
      ]
     },
     "execution_count": 16,
     "metadata": {},
     "output_type": "execute_result"
    }
   ],
   "source": [
    "stats.head()"
   ]
  },
  {
   "cell_type": "code",
   "execution_count": 17,
   "metadata": {},
   "outputs": [
    {
     "data": {
      "text/html": [
       "<div>\n",
       "<style scoped>\n",
       "    .dataframe tbody tr th:only-of-type {\n",
       "        vertical-align: middle;\n",
       "    }\n",
       "\n",
       "    .dataframe tbody tr th {\n",
       "        vertical-align: top;\n",
       "    }\n",
       "\n",
       "    .dataframe thead tr th {\n",
       "        text-align: left;\n",
       "    }\n",
       "\n",
       "    .dataframe thead tr:last-of-type th {\n",
       "        text-align: right;\n",
       "    }\n",
       "</style>\n",
       "<table border=\"1\" class=\"dataframe\">\n",
       "  <thead>\n",
       "    <tr>\n",
       "      <th></th>\n",
       "      <th colspan=\"2\" halign=\"left\">wcpm_estimation_error</th>\n",
       "      <th colspan=\"2\" halign=\"left\">wcpm_estimation_abs_error</th>\n",
       "      <th colspan=\"2\" halign=\"left\">wcpm_estimation_abs_error_%</th>\n",
       "      <th colspan=\"2\" halign=\"left\">RMSE</th>\n",
       "    </tr>\n",
       "    <tr>\n",
       "      <th></th>\n",
       "      <th>mean</th>\n",
       "      <th>std</th>\n",
       "      <th>mean</th>\n",
       "      <th>std</th>\n",
       "      <th>mean</th>\n",
       "      <th>std</th>\n",
       "      <th>mean</th>\n",
       "      <th>std</th>\n",
       "    </tr>\n",
       "    <tr>\n",
       "      <th>wcpm_bin</th>\n",
       "      <th></th>\n",
       "      <th></th>\n",
       "      <th></th>\n",
       "      <th></th>\n",
       "      <th></th>\n",
       "      <th></th>\n",
       "      <th></th>\n",
       "      <th></th>\n",
       "    </tr>\n",
       "  </thead>\n",
       "  <tbody>\n",
       "    <tr>\n",
       "      <th>150+</th>\n",
       "      <td>2.37</td>\n",
       "      <td>7.46</td>\n",
       "      <td>4.04</td>\n",
       "      <td>6.69</td>\n",
       "      <td>2.25</td>\n",
       "      <td>3.06</td>\n",
       "      <td>60.39</td>\n",
       "      <td>267.34</td>\n",
       "    </tr>\n",
       "    <tr>\n",
       "      <th>75-150</th>\n",
       "      <td>-0.03</td>\n",
       "      <td>2.85</td>\n",
       "      <td>1.94</td>\n",
       "      <td>2.09</td>\n",
       "      <td>1.75</td>\n",
       "      <td>1.90</td>\n",
       "      <td>8.12</td>\n",
       "      <td>27.91</td>\n",
       "    </tr>\n",
       "    <tr>\n",
       "      <th>&lt;75</th>\n",
       "      <td>0.26</td>\n",
       "      <td>4.62</td>\n",
       "      <td>2.49</td>\n",
       "      <td>3.89</td>\n",
       "      <td>5.96</td>\n",
       "      <td>9.91</td>\n",
       "      <td>21.22</td>\n",
       "      <td>111.85</td>\n",
       "    </tr>\n",
       "    <tr>\n",
       "      <th>total</th>\n",
       "      <td>0.30</td>\n",
       "      <td>4.04</td>\n",
       "      <td>2.28</td>\n",
       "      <td>3.35</td>\n",
       "      <td>2.57</td>\n",
       "      <td>4.87</td>\n",
       "      <td>16.38</td>\n",
       "      <td>104.96</td>\n",
       "    </tr>\n",
       "  </tbody>\n",
       "</table>\n",
       "</div>"
      ],
      "text/plain": [
       "         wcpm_estimation_error       wcpm_estimation_abs_error        \\\n",
       "                          mean   std                      mean   std   \n",
       "wcpm_bin                                                               \n",
       "150+                      2.37  7.46                      4.04  6.69   \n",
       "75-150                   -0.03  2.85                      1.94  2.09   \n",
       "<75                       0.26  4.62                      2.49  3.89   \n",
       "total                     0.30  4.04                      2.28  3.35   \n",
       "\n",
       "         wcpm_estimation_abs_error_%         RMSE          \n",
       "                                mean   std   mean     std  \n",
       "wcpm_bin                                                   \n",
       "150+                            2.25  3.06  60.39  267.34  \n",
       "75-150                          1.75  1.90   8.12   27.91  \n",
       "<75                             5.96  9.91  21.22  111.85  \n",
       "total                           2.57  4.87  16.38  104.96  "
      ]
     },
     "execution_count": 17,
     "metadata": {},
     "output_type": "execute_result"
    }
   ],
   "source": [
    "summary"
   ]
  },
  {
   "cell_type": "code",
   "execution_count": 18,
   "metadata": {},
   "outputs": [
    {
     "data": {
      "text/html": [
       "<div>\n",
       "<style scoped>\n",
       "    .dataframe tbody tr th:only-of-type {\n",
       "        vertical-align: middle;\n",
       "    }\n",
       "\n",
       "    .dataframe tbody tr th {\n",
       "        vertical-align: top;\n",
       "    }\n",
       "\n",
       "    .dataframe thead tr th {\n",
       "        text-align: left;\n",
       "    }\n",
       "\n",
       "    .dataframe thead tr:last-of-type th {\n",
       "        text-align: right;\n",
       "    }\n",
       "</style>\n",
       "<table border=\"1\" class=\"dataframe\">\n",
       "  <thead>\n",
       "    <tr>\n",
       "      <th></th>\n",
       "      <th colspan=\"2\" halign=\"left\">Total Count</th>\n",
       "      <th colspan=\"2\" halign=\"left\">Error &gt; 1%</th>\n",
       "      <th colspan=\"2\" halign=\"left\">Error &gt; 5%</th>\n",
       "      <th colspan=\"2\" halign=\"left\">Error &gt; 10%</th>\n",
       "    </tr>\n",
       "    <tr>\n",
       "      <th></th>\n",
       "      <th>count</th>\n",
       "      <th>% of bin</th>\n",
       "      <th>count</th>\n",
       "      <th>% of bin</th>\n",
       "      <th>count</th>\n",
       "      <th>% of bin</th>\n",
       "      <th>count</th>\n",
       "      <th>% of bin</th>\n",
       "    </tr>\n",
       "    <tr>\n",
       "      <th>wcpm_bin</th>\n",
       "      <th></th>\n",
       "      <th></th>\n",
       "      <th></th>\n",
       "      <th></th>\n",
       "      <th></th>\n",
       "      <th></th>\n",
       "      <th></th>\n",
       "      <th></th>\n",
       "    </tr>\n",
       "  </thead>\n",
       "  <tbody>\n",
       "    <tr>\n",
       "      <th>150+</th>\n",
       "      <td>65.0</td>\n",
       "      <td>100.0</td>\n",
       "      <td>36.0</td>\n",
       "      <td>55.4</td>\n",
       "      <td>9.0</td>\n",
       "      <td>13.8</td>\n",
       "      <td>2.0</td>\n",
       "      <td>3.1</td>\n",
       "    </tr>\n",
       "    <tr>\n",
       "      <th>75-150</th>\n",
       "      <td>407.0</td>\n",
       "      <td>100.0</td>\n",
       "      <td>233.0</td>\n",
       "      <td>57.2</td>\n",
       "      <td>19.0</td>\n",
       "      <td>4.7</td>\n",
       "      <td>3.0</td>\n",
       "      <td>0.7</td>\n",
       "    </tr>\n",
       "    <tr>\n",
       "      <th>&lt;75</th>\n",
       "      <td>104.0</td>\n",
       "      <td>100.0</td>\n",
       "      <td>86.0</td>\n",
       "      <td>82.7</td>\n",
       "      <td>31.0</td>\n",
       "      <td>29.8</td>\n",
       "      <td>16.0</td>\n",
       "      <td>15.4</td>\n",
       "    </tr>\n",
       "    <tr>\n",
       "      <th>total</th>\n",
       "      <td>576.0</td>\n",
       "      <td>100.0</td>\n",
       "      <td>355.0</td>\n",
       "      <td>61.6</td>\n",
       "      <td>59.0</td>\n",
       "      <td>10.2</td>\n",
       "      <td>21.0</td>\n",
       "      <td>3.6</td>\n",
       "    </tr>\n",
       "  </tbody>\n",
       "</table>\n",
       "</div>"
      ],
      "text/plain": [
       "         Total Count          Error > 1%          Error > 5%           \\\n",
       "               count % of bin      count % of bin      count % of bin   \n",
       "wcpm_bin                                                                \n",
       "150+            65.0    100.0       36.0     55.4        9.0     13.8   \n",
       "75-150         407.0    100.0      233.0     57.2       19.0      4.7   \n",
       "<75            104.0    100.0       86.0     82.7       31.0     29.8   \n",
       "total          576.0    100.0      355.0     61.6       59.0     10.2   \n",
       "\n",
       "         Error > 10%           \n",
       "               count % of bin  \n",
       "wcpm_bin                       \n",
       "150+             2.0      3.1  \n",
       "75-150           3.0      0.7  \n",
       "<75             16.0     15.4  \n",
       "total           21.0      3.6  "
      ]
     },
     "execution_count": 18,
     "metadata": {},
     "output_type": "execute_result"
    }
   ],
   "source": [
    "errors"
   ]
  },
  {
   "cell_type": "markdown",
   "metadata": {},
   "source": [
    "You can also visualize feature importance for Random Forests and boosting models. This method will raise an error if applied to a ModelTrainer instance currently using a BaselineModel or KNN model."
   ]
  },
  {
   "cell_type": "code",
   "execution_count": 19,
   "metadata": {},
   "outputs": [
    {
     "data": {
      "image/png": "[encoded data removed]",
      "text/plain": [
       "<Figure size 576x576 with 1 Axes>"
      ]
     },
     "metadata": {},
     "output_type": "display_data"
    }
   ],
   "source": [
    "trainer.feature_importance()"
   ]
  },
  {
   "cell_type": "markdown",
   "metadata": {},
   "source": [
    "#### 3.1.e Saving models\n",
    "\n",
    "You can save models using the `trainer.save_models()` methods. You can choose what you want to save (scaler and / or model) and if you want to replace previous models or not (this will delete previous models of te same type). The saving directory is `MODELS_PATH` from `config.py`."
   ]
  },
  {
   "cell_type": "code",
   "execution_count": 20,
   "metadata": {},
   "outputs": [
    {
     "name": "stderr",
     "output_type": "stream",
     "text": [
      "2020-10-14 08:34:17,931 root         INFO     Saved file XGB_0.joblib in dir ./litreading/models/\n"
     ]
    }
   ],
   "source": [
    "trainer.save_model(scaler = False,  # default is False\n",
    "                  model = True,  # default is False\n",
    "                  replace = False  # default is False\n",
    "                 )"
   ]
  },
  {
   "cell_type": "markdown",
   "metadata": {},
   "source": [
    "### 3.2 Train a model and tune hyperparameters using grid search\n",
    "\n",
    "Now we want to train another model and decide with what parameters. You can do so without having to redo the preprocesssing: we can use self.set_new_model() and specify both the model type and the params for the model. "
   ]
  },
  {
   "cell_type": "markdown",
   "metadata": {},
   "source": [
    "#### 3.2.a Specify model and parameters and train\n",
    "\n",
    "Here are the parameters of the default models already trained forthe package. Thay were finetuned using sklearn gridsearch, with the functions detailed below. If you want to retrain the model with same parameters, please use `trainer.set_params('config_params)`."
   ]
  },
  {
   "cell_type": "code",
   "execution_count": 21,
   "metadata": {
    "scrolled": false
   },
   "outputs": [
    {
     "name": "stderr",
     "output_type": "stream",
     "text": [
      "2020-10-14 08:34:17,956 root         INFO     New model set: RF\n"
     ]
    }
   ],
   "source": [
    "# We will use RF here, but you can use any of the models and params listed below\n",
    "# model_type = 'XGB'\n",
    "# params = {'n_estimators': 800,\n",
    "#           'learning_rate': 0.02,\n",
    "#           'max_depth': 7,\n",
    "#           'subsample': 0.8,\n",
    "#           'colsample_bytree': 0.9,\n",
    "#           'gamma': 5\n",
    "#          }\n",
    "\n",
    "# model_type = 'KNN'\n",
    "# params = {'n_neighbors': 4,\n",
    "#           'weights': 'distance'\n",
    "#          }\n",
    "\n",
    "model_type = 'RF'\n",
    "params = {'max_features': 6,\n",
    "          'n_estimators': 600,\n",
    "          'max_depth': 10,\n",
    "          'min_samples_split': 4,\n",
    "          'min_samples_leaf': 1,\n",
    "          'bootstrap': True\n",
    "         }\n",
    "\n",
    "# model_type = 'Baseline'\n",
    "# params = {}\n",
    "\n",
    "trainer.set_new_model(model_type=model_type,\n",
    "                      params=params,\n",
    "                      inplace=True\n",
    "                     )\n",
    "\n",
    "# As they are the params defined in config.py, we can also do:\n",
    "# trainer.set_new_model(model_type=model_type,\n",
    "#                       params='config_params',\n",
    "#                       inplace=True\n",
    "#                      )"
   ]
  },
  {
   "cell_type": "code",
   "execution_count": 22,
   "metadata": {},
   "outputs": [
    {
     "name": "stderr",
     "output_type": "stream",
     "text": [
      "2020-10-14 08:34:17,988 root         INFO     Training RF\n"
     ]
    }
   ],
   "source": [
    "trainer.train()\n",
    "stats, summary, errors = trainer.evaluate_model(visualize=False)"
   ]
  },
  {
   "cell_type": "markdown",
   "metadata": {},
   "source": [
    "#### 3.2.b Visualization \n",
    "An alternative to `visualize=True` in `trainer.evaluate_model()` is to use `trainer.plot_wcpm_distribution`:"
   ]
  },
  {
   "cell_type": "code",
   "execution_count": 23,
   "metadata": {},
   "outputs": [
    {
     "data": {
      "image/png": "[encoded data removed]",
      "text/plain": [
       "<Figure size 1152x432 with 1 Axes>"
      ]
     },
     "metadata": {},
     "output_type": "display_data"
    }
   ],
   "source": [
    "trainer.plot_wcpm_distribution(stats=stats,  # mandatory\n",
    "                               x='wcpm_estimation_error_%',  # optional, default is 'wcpm_estimation_error_%'\n",
    "                               stat='count',  # optional, default is 'count'\n",
    "                               binwidth=.005, # optional, default is '.01'\n",
    "                              )"
   ]
  },
  {
   "cell_type": "markdown",
   "metadata": {},
   "source": [
    "You can also print a scatter plot of errors and wcpm estimatiosn to see where are the biggest errors and what is the performance of the model:"
   ]
  },
  {
   "cell_type": "code",
   "execution_count": 24,
   "metadata": {},
   "outputs": [
    {
     "data": {
      "image/png": "[encoded data removed]",
      "text/plain": [
       "<Figure size 1152x432 with 1 Axes>"
      ]
     },
     "metadata": {},
     "output_type": "display_data"
    }
   ],
   "source": [
    "trainer.plot_wcpm_scatter(stats,  # mandatory\n",
    "                          y = 'wcpm_estimation',  # optional, default 'wcpm_estimation_error_%'\n",
    "                          x = 'human_wcpm'  # optional, default 'human_wcpm'\n",
    "                         )"
   ]
  },
  {
   "cell_type": "markdown",
   "metadata": {},
   "source": [
    "#### 3.2.c training the Baseline model\n",
    "\n",
    "The Baseline model is implemeneted as a basic longest common subsequence using the Difflib package. The class BaselineModel is defined in `utils.py`."
   ]
  },
  {
   "cell_type": "code",
   "execution_count": 25,
   "metadata": {},
   "outputs": [
    {
     "name": "stderr",
     "output_type": "stream",
     "text": [
      "2020-10-14 08:34:22,977 root         INFO     New model set: Baseline\n",
      "2020-10-14 08:34:22,986 root         INFO     Training Baseline\n"
     ]
    },
    {
     "data": {
      "image/png": "[encoded data removed]",
      "text/plain": [
       "<Figure size 1152x432 with 1 Axes>"
      ]
     },
     "metadata": {},
     "output_type": "display_data"
    }
   ],
   "source": [
    "trainer.set_new_model(model_type = 'Baseline')\n",
    "trainer.train()\n",
    "trainer.plot_wcpm_scatter(stats, y = 'wcpm_estimation', x = 'human_wcpm')"
   ]
  },
  {
   "cell_type": "markdown",
   "metadata": {},
   "source": [
    "## 4. Grid search"
   ]
  },
  {
   "cell_type": "markdown",
   "metadata": {},
   "source": [
    "### 4.1 set parameters and model"
   ]
  },
  {
   "cell_type": "code",
   "execution_count": 26,
   "metadata": {},
   "outputs": [],
   "source": [
    "# RandomForestRegressor\n",
    "model_type = 'RF'\n",
    "cv_params={\n",
    "    'max_features': np.arange(1, 9, 1),\n",
    "#     'n_estimators': list(np.arange(100, 2001, 100)),\n",
    "#     'max_depth': np.arange(1, 20, 1)\n",
    "#     'min_samples_split': np.arange(1, 15, 1),\n",
    "#     'min_samples_leaf': np.arange(1, 6, 1)\n",
    "#     'bootstrap': [True, False]\n",
    "}"
   ]
  },
  {
   "cell_type": "markdown",
   "metadata": {},
   "source": [
    "### 4.2 Train and validate models"
   ]
  },
  {
   "cell_type": "markdown",
   "metadata": {},
   "source": [
    "Grid earch is available only for model_type in `['RF', 'KNN', 'XGB']`."
   ]
  },
  {
   "cell_type": "code",
   "execution_count": 27,
   "metadata": {
    "scrolled": false
   },
   "outputs": [
    {
     "name": "stderr",
     "output_type": "stream",
     "text": [
      "2020-10-14 08:34:23,262 root         INFO     New model set: RF\n"
     ]
    },
    {
     "name": "stdout",
     "output_type": "stream",
     "text": [
      "\n",
      "------------------------------------------------------ Estimator: ------------------------------------------------------\n",
      "RandomForestRegressor\n",
      "\n",
      "------------------------------------------------ Metric for evaluation: ------------------------------------------------\n",
      "r2\n",
      "\n",
      "------------------------------------------------- Params to be tested: -------------------------------------------------\n",
      "max_features [1 2 3 4 5 6 7 8]\n",
      "\n",
      " # of possible combinations to be cross-validated: 8\n",
      "\n",
      "Continue with these c-v parameters ? (y/n)  y\n",
      "Fitting 5 folds for each of 8 candidates, totalling 40 fits\n"
     ]
    },
    {
     "name": "stderr",
     "output_type": "stream",
     "text": [
      "[Parallel(n_jobs=-1)]: Using backend LokyBackend with 4 concurrent workers.\n",
      "[Parallel(n_jobs=-1)]: Done  10 tasks      | elapsed:    4.4s\n",
      "[Parallel(n_jobs=-1)]: Done  40 out of  40 | elapsed:   12.3s finished\n"
     ]
    }
   ],
   "source": [
    "gd = trainer.grid_search(model_type = model_type,\n",
    "                         cv_params=cv_params,\n",
    "                         cv_folds=5,\n",
    "                         scoring_metric = 'r2',\n",
    "                         verbose = 5\n",
    "                        )"
   ]
  },
  {
   "cell_type": "markdown",
   "metadata": {},
   "source": [
    "### 4.3 Visualize results"
   ]
  },
  {
   "cell_type": "code",
   "execution_count": 28,
   "metadata": {
    "scrolled": false
   },
   "outputs": [
    {
     "name": "stdout",
     "output_type": "stream",
     "text": [
      "{'max_features': 7}\n"
     ]
    },
    {
     "ename": "ValueError",
     "evalue": "Could not interpret value `param_n_estimators` for parameter `x`",
     "output_type": "error",
     "traceback": [
      "\u001b[1;31m---------------------------------------------------------------------------\u001b[0m",
      "\u001b[1;31mValueError\u001b[0m                                Traceback (most recent call last)",
      "\u001b[1;32m<ipython-input-28-2dd1c6f1fa5e>\u001b[0m in \u001b[0;36m<module>\u001b[1;34m\u001b[0m\n\u001b[0;32m      1\u001b[0m \u001b[0mprint\u001b[0m\u001b[1;33m(\u001b[0m\u001b[0mgd\u001b[0m\u001b[1;33m.\u001b[0m\u001b[0mbest_params_\u001b[0m\u001b[1;33m)\u001b[0m\u001b[1;33m\u001b[0m\u001b[1;33m\u001b[0m\u001b[0m\n\u001b[1;32m----> 2\u001b[1;33m \u001b[0mtrainer\u001b[0m\u001b[1;33m.\u001b[0m\u001b[0mplot_grid_search\u001b[0m\u001b[1;33m(\u001b[0m\u001b[0mgd\u001b[0m\u001b[1;33m.\u001b[0m\u001b[0mcv_results_\u001b[0m\u001b[1;33m,\u001b[0m \u001b[0mx\u001b[0m\u001b[1;33m=\u001b[0m\u001b[1;34m'n_estimators'\u001b[0m\u001b[1;33m,\u001b[0m \u001b[0mhue\u001b[0m\u001b[1;33m=\u001b[0m\u001b[1;32mNone\u001b[0m\u001b[1;33m,\u001b[0m \u001b[0mlog_scale\u001b[0m \u001b[1;33m=\u001b[0m \u001b[1;32mFalse\u001b[0m\u001b[1;33m)\u001b[0m\u001b[1;33m\u001b[0m\u001b[1;33m\u001b[0m\u001b[0m\n\u001b[0m",
      "\u001b[1;32m~\\Desktop\\literably-insight-project\\litreading\\train.py\u001b[0m in \u001b[0;36mplot_grid_search\u001b[1;34m(cv_results, x, hue, y, log_scale)\u001b[0m\n\u001b[0;32m    248\u001b[0m \u001b[1;33m\u001b[0m\u001b[0m\n\u001b[0;32m    249\u001b[0m         \u001b[1;31m# Param1 is the X-axis, Param 2 is represented as a different curve (color line)\u001b[0m\u001b[1;33m\u001b[0m\u001b[1;33m\u001b[0m\u001b[1;33m\u001b[0m\u001b[0m\n\u001b[1;32m--> 250\u001b[1;33m         \u001b[0msns\u001b[0m\u001b[1;33m.\u001b[0m\u001b[0mlineplot\u001b[0m\u001b[1;33m(\u001b[0m\u001b[0mdata\u001b[0m\u001b[1;33m=\u001b[0m\u001b[0mcv_results\u001b[0m\u001b[1;33m,\u001b[0m \u001b[0mx\u001b[0m\u001b[1;33m=\u001b[0m\u001b[0mx\u001b[0m\u001b[1;33m,\u001b[0m \u001b[0my\u001b[0m\u001b[1;33m=\u001b[0m\u001b[0my\u001b[0m\u001b[1;33m,\u001b[0m \u001b[0mhue\u001b[0m\u001b[1;33m=\u001b[0m\u001b[0mhue\u001b[0m\u001b[1;33m,\u001b[0m \u001b[0mpalette\u001b[0m\u001b[1;33m=\u001b[0m\u001b[1;34m'Set2'\u001b[0m\u001b[1;33m)\u001b[0m\u001b[1;33m\u001b[0m\u001b[1;33m\u001b[0m\u001b[0m\n\u001b[0m\u001b[0;32m    251\u001b[0m \u001b[1;33m\u001b[0m\u001b[0m\n\u001b[0;32m    252\u001b[0m         \u001b[0max\u001b[0m\u001b[1;33m.\u001b[0m\u001b[0mset_title\u001b[0m\u001b[1;33m(\u001b[0m\u001b[1;34m\"Grid Search Scores\"\u001b[0m\u001b[1;33m,\u001b[0m \u001b[0mfontsize\u001b[0m\u001b[1;33m=\u001b[0m\u001b[1;36m20\u001b[0m\u001b[1;33m,\u001b[0m \u001b[0mfontweight\u001b[0m\u001b[1;33m=\u001b[0m\u001b[1;34m'bold'\u001b[0m\u001b[1;33m)\u001b[0m\u001b[1;33m\u001b[0m\u001b[1;33m\u001b[0m\u001b[0m\n",
      "\u001b[1;32m~\\AppData\\Local\\Programs\\Python\\Python37\\lib\\site-packages\\seaborn\\_decorators.py\u001b[0m in \u001b[0;36minner_f\u001b[1;34m(*args, **kwargs)\u001b[0m\n\u001b[0;32m     44\u001b[0m             )\n\u001b[0;32m     45\u001b[0m         \u001b[0mkwargs\u001b[0m\u001b[1;33m.\u001b[0m\u001b[0mupdate\u001b[0m\u001b[1;33m(\u001b[0m\u001b[1;33m{\u001b[0m\u001b[0mk\u001b[0m\u001b[1;33m:\u001b[0m \u001b[0marg\u001b[0m \u001b[1;32mfor\u001b[0m \u001b[0mk\u001b[0m\u001b[1;33m,\u001b[0m \u001b[0marg\u001b[0m \u001b[1;32min\u001b[0m \u001b[0mzip\u001b[0m\u001b[1;33m(\u001b[0m\u001b[0msig\u001b[0m\u001b[1;33m.\u001b[0m\u001b[0mparameters\u001b[0m\u001b[1;33m,\u001b[0m \u001b[0margs\u001b[0m\u001b[1;33m)\u001b[0m\u001b[1;33m}\u001b[0m\u001b[1;33m)\u001b[0m\u001b[1;33m\u001b[0m\u001b[1;33m\u001b[0m\u001b[0m\n\u001b[1;32m---> 46\u001b[1;33m         \u001b[1;32mreturn\u001b[0m \u001b[0mf\u001b[0m\u001b[1;33m(\u001b[0m\u001b[1;33m**\u001b[0m\u001b[0mkwargs\u001b[0m\u001b[1;33m)\u001b[0m\u001b[1;33m\u001b[0m\u001b[1;33m\u001b[0m\u001b[0m\n\u001b[0m\u001b[0;32m     47\u001b[0m     \u001b[1;32mreturn\u001b[0m \u001b[0minner_f\u001b[0m\u001b[1;33m\u001b[0m\u001b[1;33m\u001b[0m\u001b[0m\n\u001b[0;32m     48\u001b[0m \u001b[1;33m\u001b[0m\u001b[0m\n",
      "\u001b[1;32m~\\AppData\\Local\\Programs\\Python\\Python37\\lib\\site-packages\\seaborn\\relational.py\u001b[0m in \u001b[0;36mlineplot\u001b[1;34m(x, y, hue, size, style, data, palette, hue_order, hue_norm, sizes, size_order, size_norm, dashes, markers, style_order, units, estimator, ci, n_boot, seed, sort, err_style, err_kws, legend, ax, **kwargs)\u001b[0m\n\u001b[0;32m    679\u001b[0m         \u001b[0mdata\u001b[0m\u001b[1;33m=\u001b[0m\u001b[0mdata\u001b[0m\u001b[1;33m,\u001b[0m \u001b[0mvariables\u001b[0m\u001b[1;33m=\u001b[0m\u001b[0mvariables\u001b[0m\u001b[1;33m,\u001b[0m\u001b[1;33m\u001b[0m\u001b[1;33m\u001b[0m\u001b[0m\n\u001b[0;32m    680\u001b[0m         \u001b[0mestimator\u001b[0m\u001b[1;33m=\u001b[0m\u001b[0mestimator\u001b[0m\u001b[1;33m,\u001b[0m \u001b[0mci\u001b[0m\u001b[1;33m=\u001b[0m\u001b[0mci\u001b[0m\u001b[1;33m,\u001b[0m \u001b[0mn_boot\u001b[0m\u001b[1;33m=\u001b[0m\u001b[0mn_boot\u001b[0m\u001b[1;33m,\u001b[0m \u001b[0mseed\u001b[0m\u001b[1;33m=\u001b[0m\u001b[0mseed\u001b[0m\u001b[1;33m,\u001b[0m\u001b[1;33m\u001b[0m\u001b[1;33m\u001b[0m\u001b[0m\n\u001b[1;32m--> 681\u001b[1;33m         \u001b[0msort\u001b[0m\u001b[1;33m=\u001b[0m\u001b[0msort\u001b[0m\u001b[1;33m,\u001b[0m \u001b[0merr_style\u001b[0m\u001b[1;33m=\u001b[0m\u001b[0merr_style\u001b[0m\u001b[1;33m,\u001b[0m \u001b[0merr_kws\u001b[0m\u001b[1;33m=\u001b[0m\u001b[0merr_kws\u001b[0m\u001b[1;33m,\u001b[0m \u001b[0mlegend\u001b[0m\u001b[1;33m=\u001b[0m\u001b[0mlegend\u001b[0m\u001b[1;33m,\u001b[0m\u001b[1;33m\u001b[0m\u001b[1;33m\u001b[0m\u001b[0m\n\u001b[0m\u001b[0;32m    682\u001b[0m     )\n\u001b[0;32m    683\u001b[0m \u001b[1;33m\u001b[0m\u001b[0m\n",
      "\u001b[1;32m~\\AppData\\Local\\Programs\\Python\\Python37\\lib\\site-packages\\seaborn\\relational.py\u001b[0m in \u001b[0;36m__init__\u001b[1;34m(self, data, variables, estimator, ci, n_boot, seed, sort, err_style, err_kws, legend)\u001b[0m\n\u001b[0;32m    365\u001b[0m         )\n\u001b[0;32m    366\u001b[0m \u001b[1;33m\u001b[0m\u001b[0m\n\u001b[1;32m--> 367\u001b[1;33m         \u001b[0msuper\u001b[0m\u001b[1;33m(\u001b[0m\u001b[1;33m)\u001b[0m\u001b[1;33m.\u001b[0m\u001b[0m__init__\u001b[0m\u001b[1;33m(\u001b[0m\u001b[0mdata\u001b[0m\u001b[1;33m=\u001b[0m\u001b[0mdata\u001b[0m\u001b[1;33m,\u001b[0m \u001b[0mvariables\u001b[0m\u001b[1;33m=\u001b[0m\u001b[0mvariables\u001b[0m\u001b[1;33m)\u001b[0m\u001b[1;33m\u001b[0m\u001b[1;33m\u001b[0m\u001b[0m\n\u001b[0m\u001b[0;32m    368\u001b[0m \u001b[1;33m\u001b[0m\u001b[0m\n\u001b[0;32m    369\u001b[0m         \u001b[0mself\u001b[0m\u001b[1;33m.\u001b[0m\u001b[0mestimator\u001b[0m \u001b[1;33m=\u001b[0m \u001b[0mestimator\u001b[0m\u001b[1;33m\u001b[0m\u001b[1;33m\u001b[0m\u001b[0m\n",
      "\u001b[1;32m~\\AppData\\Local\\Programs\\Python\\Python37\\lib\\site-packages\\seaborn\\_core.py\u001b[0m in \u001b[0;36m__init__\u001b[1;34m(self, data, variables)\u001b[0m\n\u001b[0;32m    602\u001b[0m     \u001b[1;32mdef\u001b[0m \u001b[0m__init__\u001b[0m\u001b[1;33m(\u001b[0m\u001b[0mself\u001b[0m\u001b[1;33m,\u001b[0m \u001b[0mdata\u001b[0m\u001b[1;33m=\u001b[0m\u001b[1;32mNone\u001b[0m\u001b[1;33m,\u001b[0m \u001b[0mvariables\u001b[0m\u001b[1;33m=\u001b[0m\u001b[1;33m{\u001b[0m\u001b[1;33m}\u001b[0m\u001b[1;33m)\u001b[0m\u001b[1;33m:\u001b[0m\u001b[1;33m\u001b[0m\u001b[1;33m\u001b[0m\u001b[0m\n\u001b[0;32m    603\u001b[0m \u001b[1;33m\u001b[0m\u001b[0m\n\u001b[1;32m--> 604\u001b[1;33m         \u001b[0mself\u001b[0m\u001b[1;33m.\u001b[0m\u001b[0massign_variables\u001b[0m\u001b[1;33m(\u001b[0m\u001b[0mdata\u001b[0m\u001b[1;33m,\u001b[0m \u001b[0mvariables\u001b[0m\u001b[1;33m)\u001b[0m\u001b[1;33m\u001b[0m\u001b[1;33m\u001b[0m\u001b[0m\n\u001b[0m\u001b[0;32m    605\u001b[0m \u001b[1;33m\u001b[0m\u001b[0m\n\u001b[0;32m    606\u001b[0m         \u001b[1;32mfor\u001b[0m \u001b[0mvar\u001b[0m\u001b[1;33m,\u001b[0m \u001b[0mcls\u001b[0m \u001b[1;32min\u001b[0m \u001b[0mself\u001b[0m\u001b[1;33m.\u001b[0m\u001b[0m_semantic_mappings\u001b[0m\u001b[1;33m.\u001b[0m\u001b[0mitems\u001b[0m\u001b[1;33m(\u001b[0m\u001b[1;33m)\u001b[0m\u001b[1;33m:\u001b[0m\u001b[1;33m\u001b[0m\u001b[1;33m\u001b[0m\u001b[0m\n",
      "\u001b[1;32m~\\AppData\\Local\\Programs\\Python\\Python37\\lib\\site-packages\\seaborn\\_core.py\u001b[0m in \u001b[0;36massign_variables\u001b[1;34m(self, data, variables)\u001b[0m\n\u001b[0;32m    666\u001b[0m             \u001b[0mself\u001b[0m\u001b[1;33m.\u001b[0m\u001b[0minput_format\u001b[0m \u001b[1;33m=\u001b[0m \u001b[1;34m\"long\"\u001b[0m\u001b[1;33m\u001b[0m\u001b[1;33m\u001b[0m\u001b[0m\n\u001b[0;32m    667\u001b[0m             plot_data, variables = self._assign_variables_longform(\n\u001b[1;32m--> 668\u001b[1;33m                 \u001b[0mdata\u001b[0m\u001b[1;33m,\u001b[0m \u001b[1;33m**\u001b[0m\u001b[0mvariables\u001b[0m\u001b[1;33m,\u001b[0m\u001b[1;33m\u001b[0m\u001b[1;33m\u001b[0m\u001b[0m\n\u001b[0m\u001b[0;32m    669\u001b[0m             )\n\u001b[0;32m    670\u001b[0m \u001b[1;33m\u001b[0m\u001b[0m\n",
      "\u001b[1;32m~\\AppData\\Local\\Programs\\Python\\Python37\\lib\\site-packages\\seaborn\\_core.py\u001b[0m in \u001b[0;36m_assign_variables_longform\u001b[1;34m(self, data, **kwargs)\u001b[0m\n\u001b[0;32m    885\u001b[0m                     \u001b[1;31m# We don't know what this name means\u001b[0m\u001b[1;33m\u001b[0m\u001b[1;33m\u001b[0m\u001b[1;33m\u001b[0m\u001b[0m\n\u001b[0;32m    886\u001b[0m                     \u001b[0merr\u001b[0m \u001b[1;33m=\u001b[0m \u001b[1;34mf\"Could not interpret value `{val}` for parameter `{key}`\"\u001b[0m\u001b[1;33m\u001b[0m\u001b[1;33m\u001b[0m\u001b[0m\n\u001b[1;32m--> 887\u001b[1;33m                     \u001b[1;32mraise\u001b[0m \u001b[0mValueError\u001b[0m\u001b[1;33m(\u001b[0m\u001b[0merr\u001b[0m\u001b[1;33m)\u001b[0m\u001b[1;33m\u001b[0m\u001b[1;33m\u001b[0m\u001b[0m\n\u001b[0m\u001b[0;32m    888\u001b[0m \u001b[1;33m\u001b[0m\u001b[0m\n\u001b[0;32m    889\u001b[0m             \u001b[1;32melse\u001b[0m\u001b[1;33m:\u001b[0m\u001b[1;33m\u001b[0m\u001b[1;33m\u001b[0m\u001b[0m\n",
      "\u001b[1;31mValueError\u001b[0m: Could not interpret value `param_n_estimators` for parameter `x`"
     ]
    },
    {
     "data": {
      "image/png": "[encoded data removed]",
      "text/plain": [
       "<Figure size 720x288 with 1 Axes>"
      ]
     },
     "metadata": {},
     "output_type": "display_data"
    }
   ],
   "source": [
    "print(gd.best_params_)\n",
    "trainer.plot_grid_search(gd.cv_results_, x='n_estimators', hue=None, log_scale = False)"
   ]
  },
  {
   "cell_type": "markdown",
   "metadata": {},
   "source": [
    "### 4.4 Select and save model"
   ]
  },
  {
   "cell_type": "code",
   "execution_count": null,
   "metadata": {},
   "outputs": [],
   "source": [
    "trainer.save_model(scaler=True, model=True, replace=False)"
   ]
  },
  {
   "cell_type": "code",
   "execution_count": null,
   "metadata": {},
   "outputs": [],
   "source": []
  }
 ],
 "metadata": {
  "kernelspec": {
   "display_name": "Python 3.7.6 64-bit",
   "language": "python",
   "name": "python37664bitfc8300634b1e462eaa0d9dbf574db025"
  },
  "language_info": {
   "codemirror_mode": {
    "name": "ipython",
    "version": 3
   },
   "file_extension": ".py",
   "mimetype": "text/x-python",
   "name": "python",
   "nbconvert_exporter": "python",
   "pygments_lexer": "ipython3",
   "version": "3.7.9"
  }
 },
 "nbformat": 4,
 "nbformat_minor": 4
}
