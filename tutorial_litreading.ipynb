{
 "cells": [
  {
   "cell_type": "code",
   "execution_count": 1,
   "metadata": {},
   "outputs": [],
   "source": [
    "import pandas as pd\n",
    "import numpy as np"
   ]
  },
  {
   "cell_type": "code",
   "execution_count": 2,
   "metadata": {},
   "outputs": [],
   "source": [
    "from litreading.grade import DataGrader, grade_wcpm\n",
    "from litreading.train import ModelTrainer\n",
    "from litreading.config import SEED"
   ]
  },
  {
   "cell_type": "markdown",
   "metadata": {},
   "source": [
    "## 1. Open Data as pandas dataframe"
   ]
  },
  {
   "cell_type": "code",
   "execution_count": 39,
   "metadata": {},
   "outputs": [
    {
     "data": {
      "text/html": [
       "<div>\n",
       "<style scoped>\n",
       "    .dataframe tbody tr th:only-of-type {\n",
       "        vertical-align: middle;\n",
       "    }\n",
       "\n",
       "    .dataframe tbody tr th {\n",
       "        vertical-align: top;\n",
       "    }\n",
       "\n",
       "    .dataframe thead th {\n",
       "        text-align: right;\n",
       "    }\n",
       "</style>\n",
       "<table border=\"1\" class=\"dataframe\">\n",
       "  <thead>\n",
       "    <tr style=\"text-align: right;\">\n",
       "      <th></th>\n",
       "      <th>human_wcpm</th>\n",
       "      <th>human_transcript</th>\n",
       "      <th>asr_transcript</th>\n",
       "      <th>prompt</th>\n",
       "      <th>scored_duration</th>\n",
       "    </tr>\n",
       "  </thead>\n",
       "  <tbody>\n",
       "    <tr>\n",
       "      <th>0</th>\n",
       "      <td>107</td>\n",
       "      <td>every night at bedtime ben told stories to his...</td>\n",
       "      <td>bigfoot every night at bedtime ben told storie...</td>\n",
       "      <td>every night at bedtime ben told stories to his...</td>\n",
       "      <td>60.0</td>\n",
       "    </tr>\n",
       "    <tr>\n",
       "      <th>1</th>\n",
       "      <td>128</td>\n",
       "      <td>once upon a time there was an elephant who liv...</td>\n",
       "      <td>once upon a time there was an elephant who liv...</td>\n",
       "      <td>once upon a time there was an elephant who liv...</td>\n",
       "      <td>60.0</td>\n",
       "    </tr>\n",
       "    <tr>\n",
       "      <th>2</th>\n",
       "      <td>88</td>\n",
       "      <td>today's the big day said ruth what big day ask...</td>\n",
       "      <td>today's the big day said ruth what big day ask...</td>\n",
       "      <td>today's the big day said ruth what big day ask...</td>\n",
       "      <td>60.0</td>\n",
       "    </tr>\n",
       "    <tr>\n",
       "      <th>3</th>\n",
       "      <td>109</td>\n",
       "      <td>once upon a time there was an elephant who liv...</td>\n",
       "      <td>once upon a time there was an elephant who liv...</td>\n",
       "      <td>once upon a time there was an elephant who liv...</td>\n",
       "      <td>60.0</td>\n",
       "    </tr>\n",
       "    <tr>\n",
       "      <th>4</th>\n",
       "      <td>127</td>\n",
       "      <td>last summer my daddy went wait no last summer ...</td>\n",
       "      <td>last summer my daddy went to last summer my da...</td>\n",
       "      <td>last summer my daddy sent me to the store for ...</td>\n",
       "      <td>60.0</td>\n",
       "    </tr>\n",
       "  </tbody>\n",
       "</table>\n",
       "</div>"
      ],
      "text/plain": [
       "   human_wcpm                                   human_transcript  \\\n",
       "0         107  every night at bedtime ben told stories to his...   \n",
       "1         128  once upon a time there was an elephant who liv...   \n",
       "2          88  today's the big day said ruth what big day ask...   \n",
       "3         109  once upon a time there was an elephant who liv...   \n",
       "4         127  last summer my daddy went wait no last summer ...   \n",
       "\n",
       "                                      asr_transcript  \\\n",
       "0  bigfoot every night at bedtime ben told storie...   \n",
       "1  once upon a time there was an elephant who liv...   \n",
       "2  today's the big day said ruth what big day ask...   \n",
       "3  once upon a time there was an elephant who liv...   \n",
       "4  last summer my daddy went to last summer my da...   \n",
       "\n",
       "                                              prompt  scored_duration  \n",
       "0  every night at bedtime ben told stories to his...             60.0  \n",
       "1  once upon a time there was an elephant who liv...             60.0  \n",
       "2  today's the big day said ruth what big day ask...             60.0  \n",
       "3  once upon a time there was an elephant who liv...             60.0  \n",
       "4  last summer my daddy sent me to the store for ...             60.0  "
      ]
     },
     "execution_count": 39,
     "metadata": {},
     "output_type": "execute_result"
    }
   ],
   "source": [
    "df = pd.read_csv(\"./data/larger_wcpm.csv\")\n",
    "df.head()"
   ]
  },
  {
   "cell_type": "markdown",
   "metadata": {},
   "source": [
    "## 2. Predict grades based on already trained models"
   ]
  },
  {
   "cell_type": "markdown",
   "metadata": {},
   "source": [
    "### 2.1 With function"
   ]
  },
  {
   "cell_type": "code",
   "execution_count": 6,
   "metadata": {},
   "outputs": [
    {
     "name": "stderr",
     "output_type": "stream",
     "text": [
      "2020-10-13 10:12:10,269 root         INFO     Loading model from ./litreading/models/standard_scaler.joblib\n",
      "2020-10-13 10:12:10,272 root         INFO     Loading model from ./litreading/models/XGB.joblib\n"
     ]
    },
    {
     "data": {
      "text/html": [
       "<div>\n",
       "<style scoped>\n",
       "    .dataframe tbody tr th:only-of-type {\n",
       "        vertical-align: middle;\n",
       "    }\n",
       "\n",
       "    .dataframe tbody tr th {\n",
       "        vertical-align: top;\n",
       "    }\n",
       "\n",
       "    .dataframe thead th {\n",
       "        text-align: right;\n",
       "    }\n",
       "</style>\n",
       "<table border=\"1\" class=\"dataframe\">\n",
       "  <thead>\n",
       "    <tr style=\"text-align: right;\">\n",
       "      <th></th>\n",
       "      <th>human_wcpm</th>\n",
       "      <th>human_transcript</th>\n",
       "      <th>asr_transcript</th>\n",
       "      <th>prompt</th>\n",
       "      <th>scored_duration</th>\n",
       "      <th>wcpm_estimation</th>\n",
       "    </tr>\n",
       "  </thead>\n",
       "  <tbody>\n",
       "    <tr>\n",
       "      <th>0</th>\n",
       "      <td>107</td>\n",
       "      <td>every night at bedtime ben told stories to his...</td>\n",
       "      <td>bigfoot every night at bedtime ben told storie...</td>\n",
       "      <td>every night at bedtime ben told stories to his...</td>\n",
       "      <td>60.0</td>\n",
       "      <td>100.0</td>\n",
       "    </tr>\n",
       "    <tr>\n",
       "      <th>1</th>\n",
       "      <td>128</td>\n",
       "      <td>once upon a time there was an elephant who liv...</td>\n",
       "      <td>once upon a time there was an elephant who liv...</td>\n",
       "      <td>once upon a time there was an elephant who liv...</td>\n",
       "      <td>60.0</td>\n",
       "      <td>126.1</td>\n",
       "    </tr>\n",
       "    <tr>\n",
       "      <th>2</th>\n",
       "      <td>88</td>\n",
       "      <td>today's the big day said ruth what big day ask...</td>\n",
       "      <td>today's the big day said ruth what big day ask...</td>\n",
       "      <td>today's the big day said ruth what big day ask...</td>\n",
       "      <td>60.0</td>\n",
       "      <td>89.8</td>\n",
       "    </tr>\n",
       "    <tr>\n",
       "      <th>3</th>\n",
       "      <td>109</td>\n",
       "      <td>once upon a time there was an elephant who liv...</td>\n",
       "      <td>once upon a time there was an elephant who liv...</td>\n",
       "      <td>once upon a time there was an elephant who liv...</td>\n",
       "      <td>60.0</td>\n",
       "      <td>111.7</td>\n",
       "    </tr>\n",
       "    <tr>\n",
       "      <th>4</th>\n",
       "      <td>127</td>\n",
       "      <td>last summer my daddy went wait no last summer ...</td>\n",
       "      <td>last summer my daddy went to last summer my da...</td>\n",
       "      <td>last summer my daddy sent me to the store for ...</td>\n",
       "      <td>60.0</td>\n",
       "      <td>126.7</td>\n",
       "    </tr>\n",
       "  </tbody>\n",
       "</table>\n",
       "</div>"
      ],
      "text/plain": [
       "   human_wcpm                                   human_transcript  \\\n",
       "0         107  every night at bedtime ben told stories to his...   \n",
       "1         128  once upon a time there was an elephant who liv...   \n",
       "2          88  today's the big day said ruth what big day ask...   \n",
       "3         109  once upon a time there was an elephant who liv...   \n",
       "4         127  last summer my daddy went wait no last summer ...   \n",
       "\n",
       "                                      asr_transcript  \\\n",
       "0  bigfoot every night at bedtime ben told storie...   \n",
       "1  once upon a time there was an elephant who liv...   \n",
       "2  today's the big day said ruth what big day ask...   \n",
       "3  once upon a time there was an elephant who liv...   \n",
       "4  last summer my daddy went to last summer my da...   \n",
       "\n",
       "                                              prompt  scored_duration  \\\n",
       "0  every night at bedtime ben told stories to his...             60.0   \n",
       "1  once upon a time there was an elephant who liv...             60.0   \n",
       "2  today's the big day said ruth what big day ask...             60.0   \n",
       "3  once upon a time there was an elephant who liv...             60.0   \n",
       "4  last summer my daddy sent me to the store for ...             60.0   \n",
       "\n",
       "   wcpm_estimation  \n",
       "0            100.0  \n",
       "1            126.1  \n",
       "2             89.8  \n",
       "3            111.7  \n",
       "4            126.7  "
      ]
     },
     "execution_count": 6,
     "metadata": {},
     "output_type": "execute_result"
    }
   ],
   "source": [
    "grades = grade_wcpm(df.loc[:50])\n",
    "grades.head()"
   ]
  },
  {
   "cell_type": "markdown",
   "metadata": {},
   "source": [
    "### 2.2 Instanciate DataGrader"
   ]
  },
  {
   "cell_type": "code",
   "execution_count": 8,
   "metadata": {},
   "outputs": [
    {
     "name": "stderr",
     "output_type": "stream",
     "text": [
      "2020-10-13 10:17:13,696 root         INFO     Loading model from ./litreading/models/standard_scaler.joblib\n",
      "2020-10-13 10:17:13,698 root         INFO     Loading model from ./litreading/models/XGB.joblib\n"
     ]
    }
   ],
   "source": [
    "grader = DataGrader(df.loc[:50],  # mandatory\n",
    "                    model_type='XGB',  # optional, default XGB\n",
    "                    prompt_col='prompt',  # optional, default 'prompt'\n",
    "                    asr_col='asr_transcript',  # optional, default 'asr_transcript'\n",
    "                    duration_col='scored_duration',  # optional, default 'scored_duration'\n",
    "                   )\n"
   ]
  },
  {
   "cell_type": "markdown",
   "metadata": {},
   "source": [
    "#### Option 1: use grade_wcpm method\n",
    "Same as using grade_wcpm function, but you have access to the DataGrader instance after if you want to modify something"
   ]
  },
  {
   "cell_type": "code",
   "execution_count": 11,
   "metadata": {},
   "outputs": [
    {
     "data": {
      "text/html": [
       "<div>\n",
       "<style scoped>\n",
       "    .dataframe tbody tr th:only-of-type {\n",
       "        vertical-align: middle;\n",
       "    }\n",
       "\n",
       "    .dataframe tbody tr th {\n",
       "        vertical-align: top;\n",
       "    }\n",
       "\n",
       "    .dataframe thead th {\n",
       "        text-align: right;\n",
       "    }\n",
       "</style>\n",
       "<table border=\"1\" class=\"dataframe\">\n",
       "  <thead>\n",
       "    <tr style=\"text-align: right;\">\n",
       "      <th></th>\n",
       "      <th>prompt</th>\n",
       "      <th>asr_transcript</th>\n",
       "      <th>human_wcpm</th>\n",
       "      <th>wcpm_estimation</th>\n",
       "    </tr>\n",
       "  </thead>\n",
       "  <tbody>\n",
       "    <tr>\n",
       "      <th>0</th>\n",
       "      <td>every night at bedtime ben told stories to his...</td>\n",
       "      <td>bigfoot every night at bedtime ben told storie...</td>\n",
       "      <td>107</td>\n",
       "      <td>100.0</td>\n",
       "    </tr>\n",
       "    <tr>\n",
       "      <th>1</th>\n",
       "      <td>once upon a time there was an elephant who liv...</td>\n",
       "      <td>once upon a time there was an elephant who liv...</td>\n",
       "      <td>128</td>\n",
       "      <td>126.1</td>\n",
       "    </tr>\n",
       "    <tr>\n",
       "      <th>2</th>\n",
       "      <td>today's the big day said ruth what big day ask...</td>\n",
       "      <td>today's the big day said ruth what big day ask...</td>\n",
       "      <td>88</td>\n",
       "      <td>89.8</td>\n",
       "    </tr>\n",
       "    <tr>\n",
       "      <th>3</th>\n",
       "      <td>once upon a time there was an elephant who liv...</td>\n",
       "      <td>once upon a time there was an elephant who liv...</td>\n",
       "      <td>109</td>\n",
       "      <td>111.7</td>\n",
       "    </tr>\n",
       "    <tr>\n",
       "      <th>4</th>\n",
       "      <td>last summer my daddy sent me to the store for ...</td>\n",
       "      <td>last summer my daddy went to last summer my da...</td>\n",
       "      <td>127</td>\n",
       "      <td>126.7</td>\n",
       "    </tr>\n",
       "  </tbody>\n",
       "</table>\n",
       "</div>"
      ],
      "text/plain": [
       "                                              prompt  \\\n",
       "0  every night at bedtime ben told stories to his...   \n",
       "1  once upon a time there was an elephant who liv...   \n",
       "2  today's the big day said ruth what big day ask...   \n",
       "3  once upon a time there was an elephant who liv...   \n",
       "4  last summer my daddy sent me to the store for ...   \n",
       "\n",
       "                                      asr_transcript  human_wcpm  \\\n",
       "0  bigfoot every night at bedtime ben told storie...         107   \n",
       "1  once upon a time there was an elephant who liv...         128   \n",
       "2  today's the big day said ruth what big day ask...          88   \n",
       "3  once upon a time there was an elephant who liv...         109   \n",
       "4  last summer my daddy went to last summer my da...         127   \n",
       "\n",
       "   wcpm_estimation  \n",
       "0            100.0  \n",
       "1            126.1  \n",
       "2             89.8  \n",
       "3            111.7  \n",
       "4            126.7  "
      ]
     },
     "execution_count": 11,
     "metadata": {},
     "output_type": "execute_result"
    }
   ],
   "source": [
    "grades = grader.grade_wcpm(only_wcpm=False)  # optional, default False. If True, returns only the wcpm estimation\n",
    "grades[['prompt', 'asr_transcript', 'human_wcpm', 'wcpm_estimation']].head()"
   ]
  },
  {
   "cell_type": "markdown",
   "metadata": {},
   "source": [
    "#### Option 2: step-by-step grading to choose different options such as preprocessing steps\n",
    "\n",
    "Default preprocessing steps are specified in the `config.py` file. Hence they will be used by default for both prediction and training if need be."
   ]
  },
  {
   "cell_type": "code",
   "execution_count": 13,
   "metadata": {},
   "outputs": [
    {
     "data": {
      "text/plain": [
       "0    100.0\n",
       "1    126.1\n",
       "2     89.8\n",
       "3    111.7\n",
       "4    126.7\n",
       "Name: wcpm_estimation, dtype: float64"
      ]
     },
     "execution_count": 13,
     "metadata": {},
     "output_type": "execute_result"
    }
   ],
   "source": [
    "grader.preprocess_data(lowercase=True,  # optional, default True\n",
    "                       punctuation_free=True,  # optional, default True\n",
    "                       convert_num2words=True,  # optional, default True\n",
    "                       asr_string_recomposition=False,  # optional, default False\n",
    "                       inplace=True  # optional, default False\n",
    "                      )\n",
    "\n",
    "grader.compute_features(inplace=True)  # optional, default False\n",
    "grades = grader.estimate_wcpm(inplace=False)  # optional, default False"
   ]
  },
  {
   "cell_type": "markdown",
   "metadata": {},
   "source": [
    "Retrieve only the grades:"
   ]
  },
  {
   "cell_type": "code",
   "execution_count": null,
   "metadata": {},
   "outputs": [],
   "source": [
    "grades.head()"
   ]
  },
  {
   "cell_type": "markdown",
   "metadata": {},
   "source": [
    "Retrieve the whole dataframe:"
   ]
  },
  {
   "cell_type": "code",
   "execution_count": 14,
   "metadata": {},
   "outputs": [
    {
     "data": {
      "text/html": [
       "<div>\n",
       "<style scoped>\n",
       "    .dataframe tbody tr th:only-of-type {\n",
       "        vertical-align: middle;\n",
       "    }\n",
       "\n",
       "    .dataframe tbody tr th {\n",
       "        vertical-align: top;\n",
       "    }\n",
       "\n",
       "    .dataframe thead th {\n",
       "        text-align: right;\n",
       "    }\n",
       "</style>\n",
       "<table border=\"1\" class=\"dataframe\">\n",
       "  <thead>\n",
       "    <tr style=\"text-align: right;\">\n",
       "      <th></th>\n",
       "      <th>human_wcpm</th>\n",
       "      <th>human_transcript</th>\n",
       "      <th>asr_transcript</th>\n",
       "      <th>prompt</th>\n",
       "      <th>scored_duration</th>\n",
       "      <th>wcpm_estimation</th>\n",
       "    </tr>\n",
       "  </thead>\n",
       "  <tbody>\n",
       "    <tr>\n",
       "      <th>0</th>\n",
       "      <td>107</td>\n",
       "      <td>every night at bedtime ben told stories to his...</td>\n",
       "      <td>bigfoot every night at bedtime ben told storie...</td>\n",
       "      <td>every night at bedtime ben told stories to his...</td>\n",
       "      <td>60.0</td>\n",
       "      <td>100.0</td>\n",
       "    </tr>\n",
       "    <tr>\n",
       "      <th>1</th>\n",
       "      <td>128</td>\n",
       "      <td>once upon a time there was an elephant who liv...</td>\n",
       "      <td>once upon a time there was an elephant who liv...</td>\n",
       "      <td>once upon a time there was an elephant who liv...</td>\n",
       "      <td>60.0</td>\n",
       "      <td>126.1</td>\n",
       "    </tr>\n",
       "    <tr>\n",
       "      <th>2</th>\n",
       "      <td>88</td>\n",
       "      <td>today's the big day said ruth what big day ask...</td>\n",
       "      <td>today's the big day said ruth what big day ask...</td>\n",
       "      <td>today's the big day said ruth what big day ask...</td>\n",
       "      <td>60.0</td>\n",
       "      <td>89.8</td>\n",
       "    </tr>\n",
       "    <tr>\n",
       "      <th>3</th>\n",
       "      <td>109</td>\n",
       "      <td>once upon a time there was an elephant who liv...</td>\n",
       "      <td>once upon a time there was an elephant who liv...</td>\n",
       "      <td>once upon a time there was an elephant who liv...</td>\n",
       "      <td>60.0</td>\n",
       "      <td>111.7</td>\n",
       "    </tr>\n",
       "    <tr>\n",
       "      <th>4</th>\n",
       "      <td>127</td>\n",
       "      <td>last summer my daddy went wait no last summer ...</td>\n",
       "      <td>last summer my daddy went to last summer my da...</td>\n",
       "      <td>last summer my daddy sent me to the store for ...</td>\n",
       "      <td>60.0</td>\n",
       "      <td>126.7</td>\n",
       "    </tr>\n",
       "  </tbody>\n",
       "</table>\n",
       "</div>"
      ],
      "text/plain": [
       "   human_wcpm                                   human_transcript  \\\n",
       "0         107  every night at bedtime ben told stories to his...   \n",
       "1         128  once upon a time there was an elephant who liv...   \n",
       "2          88  today's the big day said ruth what big day ask...   \n",
       "3         109  once upon a time there was an elephant who liv...   \n",
       "4         127  last summer my daddy went wait no last summer ...   \n",
       "\n",
       "                                      asr_transcript  \\\n",
       "0  bigfoot every night at bedtime ben told storie...   \n",
       "1  once upon a time there was an elephant who liv...   \n",
       "2  today's the big day said ruth what big day ask...   \n",
       "3  once upon a time there was an elephant who liv...   \n",
       "4  last summer my daddy went to last summer my da...   \n",
       "\n",
       "                                              prompt  scored_duration  \\\n",
       "0  every night at bedtime ben told stories to his...             60.0   \n",
       "1  once upon a time there was an elephant who liv...             60.0   \n",
       "2  today's the big day said ruth what big day ask...             60.0   \n",
       "3  once upon a time there was an elephant who liv...             60.0   \n",
       "4  last summer my daddy sent me to the store for ...             60.0   \n",
       "\n",
       "   wcpm_estimation  \n",
       "0            100.0  \n",
       "1            126.1  \n",
       "2             89.8  \n",
       "3            111.7  \n",
       "4            126.7  "
      ]
     },
     "execution_count": 14,
     "metadata": {},
     "output_type": "execute_result"
    }
   ],
   "source": [
    "grader.get_data().head()"
   ]
  },
  {
   "cell_type": "code",
   "execution_count": 30,
   "metadata": {},
   "outputs": [
    {
     "name": "stdout",
     "output_type": "stream",
     "text": [
      "whee the small bat did a double backflip and landed neatly on the branch below did you see me uncle marlon alf squeaked be quiet button up kiddo we've got company he stared into the night the small bat's eyes widened the witches oh uncle marlon can i stay and watch will they do scary spells they're no big deal kiddo the older bat settled back on his branch deep magic's not allowed in the five kingdoms these witches are shallow through and through couldn't magic a bird off a branch but keep mum all the same you don't want to end up in a pot the small bat shivered okey dokey uncle m and he froze into stillness as he watched the line of women all dressed in black making their way into the clearing at the top of the hill limping at the end of the line was the small skinny figure of a girl her head bent tenderly over the bundle in her arms as the witches hurried here and there collecting firewood and setting up the black cauldron she slipped away and settled herself at the foot of the tree where the two bats hung motionless softly she began to croon to the bundled-up object she was holding rocking it gently to and fro loobly hoggins said a terrible voice what on earth do you think you're doing loobly jumped nothing auntie she quavered the grand high witch took a step closer did my eyes deceive me or were you kissing that rat loobly shook her head so hard that her long stringy hair broke loose from its ribbon and fell over her thin little face not kissing she whispered just saying sorry the grand high witch sighed in exasperation it'll be no use now no use at all how many times do i have to tell you to leave my ingredients alone sorry auntie loobly pushed the hair out of her eyes and looked up hopefully if no use can loobly keep it certainly not cried the witch\n",
      "\n",
      "\n",
      "whee the small bat did a double backflip and landed neatly on the branch below did you see me uncle marlon alf squeaked be quiet button up kiddo we've got company he started into the night the small bat's eyes widened the witches oh uncle martin marlon can i stay and watch will they do scary spells there there's no big deal kiddo the older bat settled settled back on his branch deep magic's not allowed in the five kingdoms these witches are sha shallow through and through k couldn't magic a bird off a branch but keep mum all the same you don't want to end up in a pot the small bat shivered okey dokey uncle m and he froze into the\n",
      "\n",
      "\n",
      "60.0\n",
      "117.9\n",
      "117\n"
     ]
    }
   ],
   "source": [
    "i = 50\n",
    "\n",
    "\n",
    "\n",
    "print(grades['prompt'].loc[i])\n",
    "print('\\n')\n",
    "print(grades['asr_transcript'].loc[i])\n",
    "print('\\n')\n",
    "print(grades['scored_duration'].loc[i])\n",
    "print(grades['wcpm_estimation'].loc[i])\n",
    "print(grades['human_wcpm'].loc[i])"
   ]
  },
  {
   "cell_type": "markdown",
   "metadata": {},
   "source": [
    "## 3. Train a model"
   ]
  },
  {
   "cell_type": "markdown",
   "metadata": {},
   "source": [
    "### 3.1 Train a model with default params"
   ]
  },
  {
   "cell_type": "markdown",
   "metadata": {},
   "source": [
    "#### 3.1.a Instanciate\n",
    "Instanciate ModelTrainer and preprocess the data. You have to choose several parameters that are all listed here. You have to choose between Random Forest ('RF'), XGBoost('XGB') and K nearest neighbors ('KNN'). You will be able to change it after without re processing the data using the set_new_model(model_type, params) method."
   ]
  },
  {
   "cell_type": "code",
   "execution_count": 17,
   "metadata": {},
   "outputs": [],
   "source": [
    "config = {\n",
    "    'model_type': 'Baseline',  # available: 'Baseline', 'RF', 'KNN', 'XGB'\n",
    "    'remove_outliers': True,\n",
    "    'outliers_tol': .15,  # default is .2\n",
    "    'test_set_size': .2,\n",
    "    'seed': SEED\n",
    "}\n",
    "\n",
    "# Instanciate the trainer\n",
    "trainer = ModelTrainer(df,  # mandatory\n",
    "                       model_type = config['model_type']  # optional, default 'XGB'\n",
    "                      )"
   ]
  },
  {
   "cell_type": "markdown",
   "metadata": {},
   "source": [
    "#### 3.1.b Training and test sets and feature computation\n",
    "Prepare the training and test sets. You have the choice to remove outliers or not. Here, outliers are defined as data points where the number of words in th asr transcript and the human transcript defer by more than `outliers_tol` in percentage. \n",
    "\n",
    "e.g.: 100 words in asr transcript, 115 in human transcript: absolute difference of 15%. The datapoint will be removed with `outliers_tol=.1`, kept with `outliers_tol=.2`"
   ]
  },
  {
   "cell_type": "code",
   "execution_count": 19,
   "metadata": {},
   "outputs": [
    {
     "name": "stderr",
     "output_type": "stream",
     "text": [
      "2020-10-13 10:39:06,507 root         INFO     Removed 166 outliers, 2876 datapoints remaining for training/testing\n"
     ]
    }
   ],
   "source": [
    "trainer.prepare_train_test_set(remove_outliers=config['remove_outliers'],  # optional, default False\n",
    "                               outliers_tol=config['outliers_tol'],  # optional, default .2, used if remove_outliers=True,\n",
    "                               test_set_size=config['test_set_size'],  # optional, default .2\n",
    "                               inplace=True  # optional, default True\n",
    "                              )"
   ]
  },
  {
   "cell_type": "markdown",
   "metadata": {},
   "source": [
    "Take a look at the features used to estimate the wcpm (after standard scaling), plus label 'human_wc':"
   ]
  },
  {
   "cell_type": "code",
   "execution_count": 20,
   "metadata": {},
   "outputs": [
    {
     "data": {
      "text/html": [
       "<div>\n",
       "<style scoped>\n",
       "    .dataframe tbody tr th:only-of-type {\n",
       "        vertical-align: middle;\n",
       "    }\n",
       "\n",
       "    .dataframe tbody tr th {\n",
       "        vertical-align: top;\n",
       "    }\n",
       "\n",
       "    .dataframe thead th {\n",
       "        text-align: right;\n",
       "    }\n",
       "</style>\n",
       "<table border=\"1\" class=\"dataframe\">\n",
       "  <thead>\n",
       "    <tr style=\"text-align: right;\">\n",
       "      <th></th>\n",
       "      <th>correct_words_pm</th>\n",
       "      <th>added_words_pm</th>\n",
       "      <th>removed_words_pm</th>\n",
       "      <th>replaced_words_pm</th>\n",
       "      <th>asr_word_count_pm</th>\n",
       "      <th>prompt_avg_word_length</th>\n",
       "      <th>prompt_std_word_length</th>\n",
       "      <th>asr_avg_word_length</th>\n",
       "      <th>asr_std_word_length</th>\n",
       "      <th>human_wcpm</th>\n",
       "    </tr>\n",
       "  </thead>\n",
       "  <tbody>\n",
       "    <tr>\n",
       "      <th>count</th>\n",
       "      <td>2876.000000</td>\n",
       "      <td>2876.000000</td>\n",
       "      <td>2876.000000</td>\n",
       "      <td>2876.000000</td>\n",
       "      <td>2876.000000</td>\n",
       "      <td>2876.000000</td>\n",
       "      <td>2876.000000</td>\n",
       "      <td>2876.000000</td>\n",
       "      <td>2876.000000</td>\n",
       "      <td>2876.000000</td>\n",
       "    </tr>\n",
       "    <tr>\n",
       "      <th>mean</th>\n",
       "      <td>107.682377</td>\n",
       "      <td>9.626946</td>\n",
       "      <td>11.225832</td>\n",
       "      <td>3.795793</td>\n",
       "      <td>117.619406</td>\n",
       "      <td>4.217915</td>\n",
       "      <td>1.969704</td>\n",
       "      <td>4.129150</td>\n",
       "      <td>1.882962</td>\n",
       "      <td>109.109875</td>\n",
       "    </tr>\n",
       "    <tr>\n",
       "      <th>std</th>\n",
       "      <td>36.296089</td>\n",
       "      <td>6.614929</td>\n",
       "      <td>24.599078</td>\n",
       "      <td>3.765989</td>\n",
       "      <td>36.515448</td>\n",
       "      <td>0.513844</td>\n",
       "      <td>0.369361</td>\n",
       "      <td>0.536421</td>\n",
       "      <td>0.359985</td>\n",
       "      <td>37.148994</td>\n",
       "    </tr>\n",
       "    <tr>\n",
       "      <th>min</th>\n",
       "      <td>0.000000</td>\n",
       "      <td>0.000000</td>\n",
       "      <td>0.000000</td>\n",
       "      <td>0.000000</td>\n",
       "      <td>0.803732</td>\n",
       "      <td>2.357000</td>\n",
       "      <td>0.667000</td>\n",
       "      <td>2.000000</td>\n",
       "      <td>0.000000</td>\n",
       "      <td>0.000000</td>\n",
       "    </tr>\n",
       "    <tr>\n",
       "      <th>25%</th>\n",
       "      <td>85.000000</td>\n",
       "      <td>5.000000</td>\n",
       "      <td>2.000000</td>\n",
       "      <td>1.000000</td>\n",
       "      <td>95.582619</td>\n",
       "      <td>4.040000</td>\n",
       "      <td>1.855000</td>\n",
       "      <td>3.914750</td>\n",
       "      <td>1.691750</td>\n",
       "      <td>86.000000</td>\n",
       "    </tr>\n",
       "    <tr>\n",
       "      <th>50%</th>\n",
       "      <td>112.000000</td>\n",
       "      <td>8.302016</td>\n",
       "      <td>4.553308</td>\n",
       "      <td>3.000000</td>\n",
       "      <td>122.000000</td>\n",
       "      <td>4.258000</td>\n",
       "      <td>1.993000</td>\n",
       "      <td>4.179000</td>\n",
       "      <td>1.935000</td>\n",
       "      <td>113.000000</td>\n",
       "    </tr>\n",
       "    <tr>\n",
       "      <th>75%</th>\n",
       "      <td>133.000000</td>\n",
       "      <td>13.000000</td>\n",
       "      <td>10.000000</td>\n",
       "      <td>5.000000</td>\n",
       "      <td>142.000000</td>\n",
       "      <td>4.523000</td>\n",
       "      <td>2.229000</td>\n",
       "      <td>4.440000</td>\n",
       "      <td>2.114250</td>\n",
       "      <td>134.250000</td>\n",
       "    </tr>\n",
       "    <tr>\n",
       "      <th>max</th>\n",
       "      <td>219.591194</td>\n",
       "      <td>78.000000</td>\n",
       "      <td>284.654213</td>\n",
       "      <td>41.000000</td>\n",
       "      <td>253.000000</td>\n",
       "      <td>5.207000</td>\n",
       "      <td>2.757000</td>\n",
       "      <td>5.429000</td>\n",
       "      <td>2.985000</td>\n",
       "      <td>259.000000</td>\n",
       "    </tr>\n",
       "  </tbody>\n",
       "</table>\n",
       "</div>"
      ],
      "text/plain": [
       "       correct_words_pm  added_words_pm  removed_words_pm  replaced_words_pm  \\\n",
       "count       2876.000000     2876.000000       2876.000000        2876.000000   \n",
       "mean         107.682377        9.626946         11.225832           3.795793   \n",
       "std           36.296089        6.614929         24.599078           3.765989   \n",
       "min            0.000000        0.000000          0.000000           0.000000   \n",
       "25%           85.000000        5.000000          2.000000           1.000000   \n",
       "50%          112.000000        8.302016          4.553308           3.000000   \n",
       "75%          133.000000       13.000000         10.000000           5.000000   \n",
       "max          219.591194       78.000000        284.654213          41.000000   \n",
       "\n",
       "       asr_word_count_pm  prompt_avg_word_length  prompt_std_word_length  \\\n",
       "count        2876.000000             2876.000000             2876.000000   \n",
       "mean          117.619406                4.217915                1.969704   \n",
       "std            36.515448                0.513844                0.369361   \n",
       "min             0.803732                2.357000                0.667000   \n",
       "25%            95.582619                4.040000                1.855000   \n",
       "50%           122.000000                4.258000                1.993000   \n",
       "75%           142.000000                4.523000                2.229000   \n",
       "max           253.000000                5.207000                2.757000   \n",
       "\n",
       "       asr_avg_word_length  asr_std_word_length   human_wcpm  \n",
       "count          2876.000000          2876.000000  2876.000000  \n",
       "mean              4.129150             1.882962   109.109875  \n",
       "std               0.536421             0.359985    37.148994  \n",
       "min               2.000000             0.000000     0.000000  \n",
       "25%               3.914750             1.691750    86.000000  \n",
       "50%               4.179000             1.935000   113.000000  \n",
       "75%               4.440000             2.114250   134.250000  \n",
       "max               5.429000             2.985000   259.000000  "
      ]
     },
     "execution_count": 20,
     "metadata": {},
     "output_type": "execute_result"
    }
   ],
   "source": [
    "trainer.features.describe()"
   ]
  },
  {
   "cell_type": "markdown",
   "metadata": {},
   "source": [
    "#### 3.1.c Training\n",
    "All models default parameters are in the `config.py` file . Therefore, you need not give any parameter to train the model."
   ]
  },
  {
   "cell_type": "code",
   "execution_count": 21,
   "metadata": {},
   "outputs": [
    {
     "name": "stderr",
     "output_type": "stream",
     "text": [
      "2020-10-13 10:39:06,592 root         INFO     Training Baseline\n"
     ]
    }
   ],
   "source": [
    "trainer.train()"
   ]
  },
  {
   "cell_type": "markdown",
   "metadata": {},
   "source": [
    "#### 3.1.d Evaluate the model\n",
    "Evaluate the model by getting 3 dataframes:\n",
    "- stats with all statistics for all datapoints\n",
    "- summary with statistics like MAE, MAE%, RMSE divided in 3 bins of data per human_wcpm value: -75 words, 75-150, 150+\n",
    "- errors with count and % or errors > 1%, 5%, 10% for the 3 bins of data.\n",
    "\n",
    "You can specify `visualize=True` if you want to have a graph of error distribution. An alternative it to call later `grader.plot_wcpm_distribution()`."
   ]
  },
  {
   "cell_type": "code",
   "execution_count": 24,
   "metadata": {
    "scrolled": false
   },
   "outputs": [
    {
     "data": {
      "image/png": "[encoded data removed]",
      "text/plain": [
       "<Figure size 1152x432 with 1 Axes>"
      ]
     },
     "metadata": {},
     "output_type": "display_data"
    }
   ],
   "source": [
    "stats, summary, errors = trainer.evaluate_model(visualize=True)  # default is True for visualize"
   ]
  },
  {
   "cell_type": "code",
   "execution_count": 25,
   "metadata": {},
   "outputs": [
    {
     "data": {
      "text/html": [
       "<div>\n",
       "<style scoped>\n",
       "    .dataframe tbody tr th:only-of-type {\n",
       "        vertical-align: middle;\n",
       "    }\n",
       "\n",
       "    .dataframe tbody tr th {\n",
       "        vertical-align: top;\n",
       "    }\n",
       "\n",
       "    .dataframe thead th {\n",
       "        text-align: right;\n",
       "    }\n",
       "</style>\n",
       "<table border=\"1\" class=\"dataframe\">\n",
       "  <thead>\n",
       "    <tr style=\"text-align: right;\">\n",
       "      <th></th>\n",
       "      <th>wcpm_estimation</th>\n",
       "      <th>human_wcpm</th>\n",
       "      <th>wcpm_estimation_error</th>\n",
       "      <th>wcpm_estimation_abs_error</th>\n",
       "      <th>wcpm_estimation_error_%</th>\n",
       "      <th>wcpm_estimation_abs_error_%</th>\n",
       "      <th>RMSE</th>\n",
       "      <th>wcpm_bin</th>\n",
       "      <th>Total Count</th>\n",
       "      <th>Error &gt; 1%</th>\n",
       "      <th>Error &gt; 5%</th>\n",
       "      <th>Error &gt; 10%</th>\n",
       "    </tr>\n",
       "  </thead>\n",
       "  <tbody>\n",
       "    <tr>\n",
       "      <th>24</th>\n",
       "      <td>129.000000</td>\n",
       "      <td>128</td>\n",
       "      <td>-1.000000</td>\n",
       "      <td>1.000000</td>\n",
       "      <td>-0.007812</td>\n",
       "      <td>0.007812</td>\n",
       "      <td>1.000000</td>\n",
       "      <td>75-150</td>\n",
       "      <td>True</td>\n",
       "      <td>False</td>\n",
       "      <td>False</td>\n",
       "      <td>False</td>\n",
       "    </tr>\n",
       "    <tr>\n",
       "      <th>2337</th>\n",
       "      <td>129.000000</td>\n",
       "      <td>130</td>\n",
       "      <td>1.000000</td>\n",
       "      <td>1.000000</td>\n",
       "      <td>0.007692</td>\n",
       "      <td>0.007692</td>\n",
       "      <td>1.000000</td>\n",
       "      <td>75-150</td>\n",
       "      <td>True</td>\n",
       "      <td>False</td>\n",
       "      <td>False</td>\n",
       "      <td>False</td>\n",
       "    </tr>\n",
       "    <tr>\n",
       "      <th>1528</th>\n",
       "      <td>139.000000</td>\n",
       "      <td>143</td>\n",
       "      <td>4.000000</td>\n",
       "      <td>4.000000</td>\n",
       "      <td>0.027972</td>\n",
       "      <td>0.027972</td>\n",
       "      <td>16.000000</td>\n",
       "      <td>75-150</td>\n",
       "      <td>True</td>\n",
       "      <td>True</td>\n",
       "      <td>False</td>\n",
       "      <td>False</td>\n",
       "    </tr>\n",
       "    <tr>\n",
       "      <th>222</th>\n",
       "      <td>53.339128</td>\n",
       "      <td>54</td>\n",
       "      <td>0.660872</td>\n",
       "      <td>0.660872</td>\n",
       "      <td>0.012238</td>\n",
       "      <td>0.012238</td>\n",
       "      <td>0.436752</td>\n",
       "      <td>&lt;75</td>\n",
       "      <td>True</td>\n",
       "      <td>True</td>\n",
       "      <td>False</td>\n",
       "      <td>False</td>\n",
       "    </tr>\n",
       "    <tr>\n",
       "      <th>50</th>\n",
       "      <td>117.000000</td>\n",
       "      <td>117</td>\n",
       "      <td>0.000000</td>\n",
       "      <td>0.000000</td>\n",
       "      <td>0.000000</td>\n",
       "      <td>0.000000</td>\n",
       "      <td>0.000000</td>\n",
       "      <td>75-150</td>\n",
       "      <td>True</td>\n",
       "      <td>False</td>\n",
       "      <td>False</td>\n",
       "      <td>False</td>\n",
       "    </tr>\n",
       "  </tbody>\n",
       "</table>\n",
       "</div>"
      ],
      "text/plain": [
       "      wcpm_estimation  human_wcpm  wcpm_estimation_error  \\\n",
       "24         129.000000         128              -1.000000   \n",
       "2337       129.000000         130               1.000000   \n",
       "1528       139.000000         143               4.000000   \n",
       "222         53.339128          54               0.660872   \n",
       "50         117.000000         117               0.000000   \n",
       "\n",
       "      wcpm_estimation_abs_error  wcpm_estimation_error_%  \\\n",
       "24                     1.000000                -0.007812   \n",
       "2337                   1.000000                 0.007692   \n",
       "1528                   4.000000                 0.027972   \n",
       "222                    0.660872                 0.012238   \n",
       "50                     0.000000                 0.000000   \n",
       "\n",
       "      wcpm_estimation_abs_error_%       RMSE wcpm_bin  Total Count  \\\n",
       "24                       0.007812   1.000000   75-150         True   \n",
       "2337                     0.007692   1.000000   75-150         True   \n",
       "1528                     0.027972  16.000000   75-150         True   \n",
       "222                      0.012238   0.436752      <75         True   \n",
       "50                       0.000000   0.000000   75-150         True   \n",
       "\n",
       "      Error > 1%  Error > 5%  Error > 10%  \n",
       "24         False       False        False  \n",
       "2337       False       False        False  \n",
       "1528        True       False        False  \n",
       "222         True       False        False  \n",
       "50         False       False        False  "
      ]
     },
     "execution_count": 25,
     "metadata": {},
     "output_type": "execute_result"
    }
   ],
   "source": [
    "stats.head()"
   ]
  },
  {
   "cell_type": "code",
   "execution_count": 26,
   "metadata": {},
   "outputs": [
    {
     "data": {
      "text/html": [
       "<div>\n",
       "<style scoped>\n",
       "    .dataframe tbody tr th:only-of-type {\n",
       "        vertical-align: middle;\n",
       "    }\n",
       "\n",
       "    .dataframe tbody tr th {\n",
       "        vertical-align: top;\n",
       "    }\n",
       "\n",
       "    .dataframe thead tr th {\n",
       "        text-align: left;\n",
       "    }\n",
       "\n",
       "    .dataframe thead tr:last-of-type th {\n",
       "        text-align: right;\n",
       "    }\n",
       "</style>\n",
       "<table border=\"1\" class=\"dataframe\">\n",
       "  <thead>\n",
       "    <tr>\n",
       "      <th></th>\n",
       "      <th colspan=\"2\" halign=\"left\">wcpm_estimation_error</th>\n",
       "      <th colspan=\"2\" halign=\"left\">wcpm_estimation_abs_error</th>\n",
       "      <th colspan=\"2\" halign=\"left\">wcpm_estimation_abs_error_%</th>\n",
       "      <th colspan=\"2\" halign=\"left\">RMSE</th>\n",
       "    </tr>\n",
       "    <tr>\n",
       "      <th></th>\n",
       "      <th>mean</th>\n",
       "      <th>std</th>\n",
       "      <th>mean</th>\n",
       "      <th>std</th>\n",
       "      <th>mean</th>\n",
       "      <th>std</th>\n",
       "      <th>mean</th>\n",
       "      <th>std</th>\n",
       "    </tr>\n",
       "    <tr>\n",
       "      <th>wcpm_bin</th>\n",
       "      <th></th>\n",
       "      <th></th>\n",
       "      <th></th>\n",
       "      <th></th>\n",
       "      <th></th>\n",
       "      <th></th>\n",
       "      <th></th>\n",
       "      <th></th>\n",
       "    </tr>\n",
       "  </thead>\n",
       "  <tbody>\n",
       "    <tr>\n",
       "      <th>150+</th>\n",
       "      <td>6.80</td>\n",
       "      <td>14.39</td>\n",
       "      <td>7.32</td>\n",
       "      <td>14.13</td>\n",
       "      <td>4.02</td>\n",
       "      <td>6.73</td>\n",
       "      <td>250.11</td>\n",
       "      <td>975.93</td>\n",
       "    </tr>\n",
       "    <tr>\n",
       "      <th>75-150</th>\n",
       "      <td>1.02</td>\n",
       "      <td>3.04</td>\n",
       "      <td>2.11</td>\n",
       "      <td>2.41</td>\n",
       "      <td>1.89</td>\n",
       "      <td>2.13</td>\n",
       "      <td>10.28</td>\n",
       "      <td>31.53</td>\n",
       "    </tr>\n",
       "    <tr>\n",
       "      <th>&lt;75</th>\n",
       "      <td>1.03</td>\n",
       "      <td>5.43</td>\n",
       "      <td>2.45</td>\n",
       "      <td>4.94</td>\n",
       "      <td>5.14</td>\n",
       "      <td>10.46</td>\n",
       "      <td>30.21</td>\n",
       "      <td>199.32</td>\n",
       "    </tr>\n",
       "    <tr>\n",
       "      <th>total</th>\n",
       "      <td>1.67</td>\n",
       "      <td>6.18</td>\n",
       "      <td>2.76</td>\n",
       "      <td>5.78</td>\n",
       "      <td>2.72</td>\n",
       "      <td>5.44</td>\n",
       "      <td>40.94</td>\n",
       "      <td>345.63</td>\n",
       "    </tr>\n",
       "  </tbody>\n",
       "</table>\n",
       "</div>"
      ],
      "text/plain": [
       "         wcpm_estimation_error        wcpm_estimation_abs_error         \\\n",
       "                          mean    std                      mean    std   \n",
       "wcpm_bin                                                                 \n",
       "150+                      6.80  14.39                      7.32  14.13   \n",
       "75-150                    1.02   3.04                      2.11   2.41   \n",
       "<75                       1.03   5.43                      2.45   4.94   \n",
       "total                     1.67   6.18                      2.76   5.78   \n",
       "\n",
       "         wcpm_estimation_abs_error_%           RMSE          \n",
       "                                mean    std    mean     std  \n",
       "wcpm_bin                                                     \n",
       "150+                            4.02   6.73  250.11  975.93  \n",
       "75-150                          1.89   2.13   10.28   31.53  \n",
       "<75                             5.14  10.46   30.21  199.32  \n",
       "total                           2.72   5.44   40.94  345.63  "
      ]
     },
     "execution_count": 26,
     "metadata": {},
     "output_type": "execute_result"
    }
   ],
   "source": [
    "summary"
   ]
  },
  {
   "cell_type": "code",
   "execution_count": 27,
   "metadata": {},
   "outputs": [
    {
     "data": {
      "text/html": [
       "<div>\n",
       "<style scoped>\n",
       "    .dataframe tbody tr th:only-of-type {\n",
       "        vertical-align: middle;\n",
       "    }\n",
       "\n",
       "    .dataframe tbody tr th {\n",
       "        vertical-align: top;\n",
       "    }\n",
       "\n",
       "    .dataframe thead tr th {\n",
       "        text-align: left;\n",
       "    }\n",
       "\n",
       "    .dataframe thead tr:last-of-type th {\n",
       "        text-align: right;\n",
       "    }\n",
       "</style>\n",
       "<table border=\"1\" class=\"dataframe\">\n",
       "  <thead>\n",
       "    <tr>\n",
       "      <th></th>\n",
       "      <th colspan=\"2\" halign=\"left\">Total Count</th>\n",
       "      <th colspan=\"2\" halign=\"left\">Error &gt; 1%</th>\n",
       "      <th colspan=\"2\" halign=\"left\">Error &gt; 5%</th>\n",
       "      <th colspan=\"2\" halign=\"left\">Error &gt; 10%</th>\n",
       "    </tr>\n",
       "    <tr>\n",
       "      <th></th>\n",
       "      <th>count</th>\n",
       "      <th>% of bin</th>\n",
       "      <th>count</th>\n",
       "      <th>% of bin</th>\n",
       "      <th>count</th>\n",
       "      <th>% of bin</th>\n",
       "      <th>count</th>\n",
       "      <th>% of bin</th>\n",
       "    </tr>\n",
       "    <tr>\n",
       "      <th>wcpm_bin</th>\n",
       "      <th></th>\n",
       "      <th></th>\n",
       "      <th></th>\n",
       "      <th></th>\n",
       "      <th></th>\n",
       "      <th></th>\n",
       "      <th></th>\n",
       "      <th></th>\n",
       "    </tr>\n",
       "  </thead>\n",
       "  <tbody>\n",
       "    <tr>\n",
       "      <th>150+</th>\n",
       "      <td>65.0</td>\n",
       "      <td>100.0</td>\n",
       "      <td>37.0</td>\n",
       "      <td>56.9</td>\n",
       "      <td>16.0</td>\n",
       "      <td>24.6</td>\n",
       "      <td>7.0</td>\n",
       "      <td>10.8</td>\n",
       "    </tr>\n",
       "    <tr>\n",
       "      <th>75-150</th>\n",
       "      <td>407.0</td>\n",
       "      <td>100.0</td>\n",
       "      <td>238.0</td>\n",
       "      <td>58.5</td>\n",
       "      <td>29.0</td>\n",
       "      <td>7.1</td>\n",
       "      <td>4.0</td>\n",
       "      <td>1.0</td>\n",
       "    </tr>\n",
       "    <tr>\n",
       "      <th>&lt;75</th>\n",
       "      <td>104.0</td>\n",
       "      <td>100.0</td>\n",
       "      <td>81.0</td>\n",
       "      <td>77.9</td>\n",
       "      <td>30.0</td>\n",
       "      <td>28.8</td>\n",
       "      <td>14.0</td>\n",
       "      <td>13.5</td>\n",
       "    </tr>\n",
       "    <tr>\n",
       "      <th>total</th>\n",
       "      <td>576.0</td>\n",
       "      <td>100.0</td>\n",
       "      <td>356.0</td>\n",
       "      <td>61.8</td>\n",
       "      <td>75.0</td>\n",
       "      <td>13.0</td>\n",
       "      <td>25.0</td>\n",
       "      <td>4.3</td>\n",
       "    </tr>\n",
       "  </tbody>\n",
       "</table>\n",
       "</div>"
      ],
      "text/plain": [
       "         Total Count          Error > 1%          Error > 5%           \\\n",
       "               count % of bin      count % of bin      count % of bin   \n",
       "wcpm_bin                                                                \n",
       "150+            65.0    100.0       37.0     56.9       16.0     24.6   \n",
       "75-150         407.0    100.0      238.0     58.5       29.0      7.1   \n",
       "<75            104.0    100.0       81.0     77.9       30.0     28.8   \n",
       "total          576.0    100.0      356.0     61.8       75.0     13.0   \n",
       "\n",
       "         Error > 10%           \n",
       "               count % of bin  \n",
       "wcpm_bin                       \n",
       "150+             7.0     10.8  \n",
       "75-150           4.0      1.0  \n",
       "<75             14.0     13.5  \n",
       "total           25.0      4.3  "
      ]
     },
     "execution_count": 27,
     "metadata": {},
     "output_type": "execute_result"
    }
   ],
   "source": [
    "errors"
   ]
  },
  {
   "cell_type": "markdown",
   "metadata": {},
   "source": [
    "You can also visualize feature importance for Random Forests and boosting models. This method will raise an error if applied to a ModelTrainer instance currently using a BaselineModel or KNN model."
   ]
  },
  {
   "cell_type": "code",
   "execution_count": 40,
   "metadata": {},
   "outputs": [
    {
     "data": {
      "image/png": "[encoded data removed]",
      "text/plain": [
       "<Figure size 576x576 with 1 Axes>"
      ]
     },
     "metadata": {},
     "output_type": "display_data"
    }
   ],
   "source": [
    "trainer.feature_importance()"
   ]
  },
  {
   "cell_type": "markdown",
   "metadata": {},
   "source": [
    "#### 3.1.e Saving models\n",
    "\n",
    "You can save models using the `trainer.save_models()` methods. You can choose what you want to save (scaler and / or model) and if you want to replace previous models or not (this will delete previous models of te same type). The saving directory is `MODELS_PATH` from `config.py`."
   ]
  },
  {
   "cell_type": "code",
   "execution_count": null,
   "metadata": {},
   "outputs": [],
   "source": [
    "trainer.save_model(scaler = False,  # default is False\n",
    "                  model = True,  # default is False\n",
    "                  replace = False  # default is False\n",
    "                 )"
   ]
  },
  {
   "cell_type": "markdown",
   "metadata": {},
   "source": [
    "### 3.2 Train a model and tune hyperparameters using grid search\n",
    "\n",
    "Now we want to train another model and decide with what parameters. You can do so without having to redo the preprocesssing: we can use self.set_new_model() and specify both the model type and the params for the model. "
   ]
  },
  {
   "cell_type": "markdown",
   "metadata": {},
   "source": [
    "#### 3.2.a Specify model and parameters and train"
   ]
  },
  {
   "cell_type": "code",
   "execution_count": 35,
   "metadata": {
    "scrolled": false
   },
   "outputs": [],
   "source": [
    "# We will use RF here, but you can use any of the models and params listed below\n",
    "# model_type = 'XGB'\n",
    "# params = {'n_estimators': 800,\n",
    "#           'learning_rate': 0.02,\n",
    "#           'max_depth': 7,\n",
    "#           'subsample': 0.8,\n",
    "#           'colsample_bytree': 0.9,\n",
    "#           'gamma': 5\n",
    "#          }\n",
    "\n",
    "# model_type = 'KNN'\n",
    "# params = {'n_neighbors': 4,\n",
    "#           'weights': 'distance'\n",
    "#          }\n",
    "\n",
    "model_type = 'RF'\n",
    "params = {'max_features': 6,\n",
    "          'n_estimators': 600,\n",
    "          'max_depth': 10,\n",
    "          'min_samples_split': 4,\n",
    "          'min_samples_leaf': 1,\n",
    "          'bootstrap': True\n",
    "         }\n",
    "\n",
    "# model_type = 'Baseline'\n",
    "# params = {}\n",
    "\n",
    "trainer.set_new_model(model_type=model_type,\n",
    "                      params=params,\n",
    "                      inplace=True\n",
    "                     )"
   ]
  },
  {
   "cell_type": "code",
   "execution_count": 36,
   "metadata": {},
   "outputs": [
    {
     "name": "stderr",
     "output_type": "stream",
     "text": [
      "2020-10-13 10:56:39,463 root         INFO     Training RF\n"
     ]
    }
   ],
   "source": [
    "trainer.train()\n",
    "stats, summary, errors = trainer.evaluate_model(visualize=False)"
   ]
  },
  {
   "cell_type": "markdown",
   "metadata": {},
   "source": [
    "#### 3.2.b Visualization \n",
    "An alternative to `visualize=True` in `trainer.evaluate_model()` is to use `trainer.plot_wcpm_distribution`:"
   ]
  },
  {
   "cell_type": "code",
   "execution_count": 37,
   "metadata": {},
   "outputs": [
    {
     "data": {
      "image/png": "[encoded data removed]",
      "text/plain": [
       "<Figure size 1152x432 with 1 Axes>"
      ]
     },
     "metadata": {},
     "output_type": "display_data"
    }
   ],
   "source": [
    "trainer.plot_wcpm_distribution(stats=stats,  # mandatory\n",
    "                               x='wcpm_estimation_error_%',  # optional, default is 'wcpm_estimation_error_%'\n",
    "                               stat='count',  # optional, default is 'count'\n",
    "                               binwidth=.005, # optional, default is '.01'\n",
    "                              )"
   ]
  },
  {
   "cell_type": "markdown",
   "metadata": {},
   "source": [
    "You can also print a scatter plot of errors and wcpm estimatiosn to see where are the biggest errors and what is the performance of the model:"
   ]
  },
  {
   "cell_type": "code",
   "execution_count": 38,
   "metadata": {},
   "outputs": [
    {
     "data": {
      "image/png": "[encoded data removed]",
      "text/plain": [
       "<Figure size 1152x432 with 1 Axes>"
      ]
     },
     "metadata": {},
     "output_type": "display_data"
    }
   ],
   "source": [
    "trainer.plot_wcpm_scatter(stats,  # mandatory\n",
    "                          y = 'wcpm_estimation',  # optional, default 'wcpm_estimation_error_%'\n",
    "                          x = 'human_wcpm'  # optional, default 'human_wcpm'\n",
    "                         )"
   ]
  },
  {
   "cell_type": "markdown",
   "metadata": {},
   "source": [
    "#### 3.2.c training the Baseline model\n",
    "\n",
    "The Baseline model is implemeneted as a basic longest common subsequence using the Difflib package. The class BaselineModel is defined in `utils.py`."
   ]
  },
  {
   "cell_type": "code",
   "execution_count": 42,
   "metadata": {},
   "outputs": [
    {
     "name": "stderr",
     "output_type": "stream",
     "text": [
      "2020-10-08 18:39:31,668 root         INFO     Training Baseline\n",
      "2020-10-08 18:39:31,668 root         INFO     Training Baseline\n"
     ]
    },
    {
     "data": {
      "image/png": "[encoded data removed]",
      "text/plain": [
       "<Figure size 1152x432 with 1 Axes>"
      ]
     },
     "metadata": {},
     "output_type": "display_data"
    }
   ],
   "source": [
    "trainer.set_new_model(model_type = 'Baseline')\n",
    "trainer.train()\n",
    "trainer.plot_wcpm_scatter(stats, y = 'wcpm_estimation', x = 'human_wcpm')"
   ]
  },
  {
   "cell_type": "markdown",
   "metadata": {},
   "source": [
    "## 4. Grid search"
   ]
  },
  {
   "cell_type": "markdown",
   "metadata": {},
   "source": [
    "### 4.1 set parameters and model"
   ]
  },
  {
   "cell_type": "code",
   "execution_count": null,
   "metadata": {},
   "outputs": [],
   "source": [
    "# RandomForestRegressor\n",
    "model_type = 'RF'\n",
    "cv_params={\n",
    "#     'max_features': np.arange(1, 9, 1),\n",
    "    'max_features': [6],\n",
    "#     'n_estimators': list(np.arange(100, 2001, 100)),\n",
    "    'n_estimators': [600],\n",
    "#     'max_depth': np.arange(5, 120, 5),\n",
    "#     'max_depth': np.arange(1, 20, 1)\n",
    "    'max_depth': [10],\n",
    "#     'min_samples_split': np.arange(1, 15, 1),\n",
    "    'min_samples_split': [4],\n",
    "#     'min_samples_leaf': np.arange(1, 6, 1)\n",
    "    'min_samples_leaf': [1],\n",
    "    'bootstrap': [True]\n",
    "}\n",
    "\n",
    "# XGBoostRegressors\n",
    "# model_type = 'XGB'\n",
    "# cv_params = {\n",
    "# #     'n_estimators': list(np.arange(10, 100, 10)) + list(np.arange(100, 2001, 100)),\n",
    "# #     'n_estimators': [200, 300, 400, 500, 600, 700, 1000],\n",
    "#     'n_estimators': [200],\n",
    "# #     'learning_rate': np.arange(0.0, 0.101, 0.005),\n",
    "# #     'learning_rate': [0.01, 0.02, 0.04, 0.05, 0.1],\n",
    "#     'learning_rate': [0.04],\n",
    "# #     'max_depth': np.arange(3, 26, 1)\n",
    "#     'max_depth': [5],\n",
    "# #     'subsample': np.arange(0.6, 1, 0.01),\n",
    "#     'subsample': [0.8],\n",
    "# #     'colsample_bytree': np.arange(0.3, 1, 0.02),\n",
    "# #     'colsample_bytree': [0.9],\n",
    "# #     'gamma': [0, 1, 5]\n",
    "#     'gamma': [0]\n",
    "# }\n",
    "\n",
    "# KNN\n",
    "# model_type = 'KNN'\n",
    "# cv_params = {\n",
    "#     \"n_neighbors\": np.arange(1, 30, 1),\n",
    "#     'weights': ['uniform', 'distance']\n",
    "# }"
   ]
  },
  {
   "cell_type": "markdown",
   "metadata": {},
   "source": [
    "### 4.2 Train and validate models"
   ]
  },
  {
   "cell_type": "code",
   "execution_count": null,
   "metadata": {
    "scrolled": false
   },
   "outputs": [],
   "source": [
    "gd = trainer.grid_search(model_type = model_type,\n",
    "                         cv_params=cv_params,\n",
    "                         cv_folds=5,\n",
    "                         scoring_metric = 'r2',\n",
    "                         verbose = 5\n",
    "                        )"
   ]
  },
  {
   "cell_type": "markdown",
   "metadata": {},
   "source": [
    "### 4.3 Visualize results"
   ]
  },
  {
   "cell_type": "code",
   "execution_count": null,
   "metadata": {
    "scrolled": false
   },
   "outputs": [],
   "source": [
    "print(gd.best_params_)\n",
    "trainer.plot_grid_search(gd.cv_results_, x='n_estimators', hue=None, log_scale = False)"
   ]
  },
  {
   "cell_type": "markdown",
   "metadata": {},
   "source": [
    "### 4.4 Select and save model"
   ]
  },
  {
   "cell_type": "code",
   "execution_count": null,
   "metadata": {},
   "outputs": [],
   "source": []
  },
  {
   "cell_type": "code",
   "execution_count": null,
   "metadata": {},
   "outputs": [],
   "source": []
  }
 ],
 "metadata": {
  "kernelspec": {
   "display_name": "Python 3.7.6 64-bit",
   "language": "python",
   "name": "python37664bitfc8300634b1e462eaa0d9dbf574db025"
  },
  "language_info": {
   "codemirror_mode": {
    "name": "ipython",
    "version": 3
   },
   "file_extension": ".py",
   "mimetype": "text/x-python",
   "name": "python",
   "nbconvert_exporter": "python",
   "pygments_lexer": "ipython3",
   "version": "3.7.9"
  }
 },
 "nbformat": 4,
 "nbformat_minor": 4
}
