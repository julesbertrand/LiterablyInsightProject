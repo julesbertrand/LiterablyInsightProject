{
 "cells": [
  {
   "cell_type": "code",
   "execution_count": 1,
   "metadata": {},
   "outputs": [],
   "source": [
    "import difflib"
   ]
  },
  {
   "cell_type": "code",
   "execution_count": 2,
   "metadata": {},
   "outputs": [],
   "source": [
    "a = \"\"\"This a bird and here is a dog.\n",
    " My name is Jules and I am 23\"\"\".split()\n",
    "b = \"\"\"This a cat and here is a dog.\n",
    " My is Jules ant Iam 23\"\"\".split()"
   ]
  },
  {
   "cell_type": "code",
   "execution_count": 4,
   "metadata": {},
   "outputs": [
    {
     "name": "stdout",
     "output_type": "stream",
     "text": [
      "['--- \\n', '+++ \\n', '@@ -1,16 +1,14 @@\\n', ' This', ' a', '-bird', '+cat', ' and', ' here', ' is', ' a', ' dog.', ' My', '-name', ' is', ' Jules', '-and', '-I', '-am', '+ant', '+Iam', ' 23']\n"
     ]
    }
   ],
   "source": [
    "# seq = difflib.Differ()\n",
    "# diff = seq.compare(a, b)\n",
    "diff = difflib.unified_diff(a, b)\n",
    "print(list(diff))"
   ]
  },
  {
   "cell_type": "code",
   "execution_count": null,
   "metadata": {},
   "outputs": [],
   "source": []
  },
  {
   "cell_type": "code",
   "execution_count": null,
   "metadata": {},
   "outputs": [],
   "source": []
  },
  {
   "cell_type": "code",
   "execution_count": null,
   "metadata": {},
   "outputs": [],
   "source": []
  },
  {
   "cell_type": "code",
   "execution_count": null,
   "metadata": {},
   "outputs": [],
   "source": []
  }
 ],
 "metadata": {
  "kernelspec": {
   "display_name": "Python 3",
   "language": "python",
   "name": "python3"
  },
  "language_info": {
   "codemirror_mode": {
    "name": "ipython",
    "version": 3
   },
   "file_extension": ".py",
   "mimetype": "text/x-python",
   "name": "python",
   "nbconvert_exporter": "python",
   "pygments_lexer": "ipython3",
   "version": "3.7.6"
  }
 },
 "nbformat": 4,
 "nbformat_minor": 4
}
