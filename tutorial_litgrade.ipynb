{
 "cells": [
  {
   "cell_type": "code",
   "execution_count": 1,
   "metadata": {},
   "outputs": [],
   "source": [
    "import pandas as pd\n",
    "import numpy as np"
   ]
  },
  {
   "cell_type": "code",
   "execution_count": 2,
   "metadata": {},
   "outputs": [],
   "source": [
    "from litscore.grade import DataGrader, grade_wcpm\n",
    "from litscore.train import ModelTrainer\n",
    "from litscore.config import SEED"
   ]
  },
  {
   "cell_type": "markdown",
   "metadata": {},
   "source": [
    "## 1. Open Data"
   ]
  },
  {
   "cell_type": "code",
   "execution_count": 3,
   "metadata": {},
   "outputs": [],
   "source": [
    "df = pd.read_csv(\"./data/larger_wcpm.csv\")"
   ]
  },
  {
   "cell_type": "markdown",
   "metadata": {},
   "source": [
    "## 2. Predict grades based on already trained models"
   ]
  },
  {
   "cell_type": "code",
   "execution_count": null,
   "metadata": {},
   "outputs": [],
   "source": []
  },
  {
   "cell_type": "markdown",
   "metadata": {},
   "source": [
    "## 3. Train a model\n",
    "\n",
    "Instanciate ModelTrainer and preprocess the data. You have to choose several parameters that are all listed here. You have to choose between Random Forest ('RF'), XGBoost('XGB') and K nearest neighbors ('KNN'). You will be able to change it after without re processing the data using the set_new_model(model_type, params) method."
   ]
  },
  {
   "cell_type": "code",
   "execution_count": 5,
   "metadata": {},
   "outputs": [
    {
     "name": "stderr",
     "output_type": "stream",
     "text": [
      "2020-10-07 18:34:51,957 root         INFO     Removed 166 outliers, 2876 datapoints remaining for training/testing\n"
     ]
    }
   ],
   "source": [
    "config = {\n",
    "    'model_type': 'XGB',\n",
    "    'remove_outliers': True,\n",
    "    'outliers_tol': .15,\n",
    "    'test_set_size': .2,\n",
    "    'seed': SEED\n",
    "}\n",
    "trainer = ModelTrainer(df,\n",
    "                       model_type = config['model_type']\n",
    "                      )\n",
    "trainer.prepare_train_test_set(remove_outliers = config['remove_outliers'],\n",
    "                               outliers_tol = config['outliers_tol'],\n",
    "                               test_set_size = config['test_set_size'],\n",
    "                               inplace = True\n",
    "                              )"
   ]
  },
  {
   "cell_type": "markdown",
   "metadata": {},
   "source": [
    "Take a look at the features used to estimate the wcpm (after standard scaling), plus label 'human_wc':"
   ]
  },
  {
   "cell_type": "code",
   "execution_count": 6,
   "metadata": {},
   "outputs": [
    {
     "data": {
      "text/html": [
       "<div>\n",
       "<style scoped>\n",
       "    .dataframe tbody tr th:only-of-type {\n",
       "        vertical-align: middle;\n",
       "    }\n",
       "\n",
       "    .dataframe tbody tr th {\n",
       "        vertical-align: top;\n",
       "    }\n",
       "\n",
       "    .dataframe thead th {\n",
       "        text-align: right;\n",
       "    }\n",
       "</style>\n",
       "<table border=\"1\" class=\"dataframe\">\n",
       "  <thead>\n",
       "    <tr style=\"text-align: right;\">\n",
       "      <th></th>\n",
       "      <th>correct_words_pm</th>\n",
       "      <th>added_words_pm</th>\n",
       "      <th>removed_words_pm</th>\n",
       "      <th>replaced_words_pm</th>\n",
       "      <th>asr_word_count_pm</th>\n",
       "      <th>prompt_avg_word_length</th>\n",
       "      <th>prompt_std_word_length</th>\n",
       "      <th>asr_avg_word_length</th>\n",
       "      <th>asr_std_word_length</th>\n",
       "      <th>human_wcpm</th>\n",
       "    </tr>\n",
       "  </thead>\n",
       "  <tbody>\n",
       "    <tr>\n",
       "      <th>count</th>\n",
       "      <td>2876.000000</td>\n",
       "      <td>2876.000000</td>\n",
       "      <td>2876.000000</td>\n",
       "      <td>2876.000000</td>\n",
       "      <td>2876.000000</td>\n",
       "      <td>2876.000000</td>\n",
       "      <td>2876.000000</td>\n",
       "      <td>2876.000000</td>\n",
       "      <td>2876.000000</td>\n",
       "      <td>2876.000000</td>\n",
       "    </tr>\n",
       "    <tr>\n",
       "      <th>mean</th>\n",
       "      <td>107.682377</td>\n",
       "      <td>9.626946</td>\n",
       "      <td>11.225832</td>\n",
       "      <td>3.795793</td>\n",
       "      <td>117.619406</td>\n",
       "      <td>4.217915</td>\n",
       "      <td>1.969704</td>\n",
       "      <td>4.129150</td>\n",
       "      <td>1.882962</td>\n",
       "      <td>109.109875</td>\n",
       "    </tr>\n",
       "    <tr>\n",
       "      <th>std</th>\n",
       "      <td>36.296089</td>\n",
       "      <td>6.614929</td>\n",
       "      <td>24.599078</td>\n",
       "      <td>3.765989</td>\n",
       "      <td>36.515448</td>\n",
       "      <td>0.513844</td>\n",
       "      <td>0.369361</td>\n",
       "      <td>0.536421</td>\n",
       "      <td>0.359985</td>\n",
       "      <td>37.148994</td>\n",
       "    </tr>\n",
       "    <tr>\n",
       "      <th>min</th>\n",
       "      <td>0.000000</td>\n",
       "      <td>0.000000</td>\n",
       "      <td>0.000000</td>\n",
       "      <td>0.000000</td>\n",
       "      <td>0.803732</td>\n",
       "      <td>2.357000</td>\n",
       "      <td>0.667000</td>\n",
       "      <td>2.000000</td>\n",
       "      <td>0.000000</td>\n",
       "      <td>0.000000</td>\n",
       "    </tr>\n",
       "    <tr>\n",
       "      <th>25%</th>\n",
       "      <td>85.000000</td>\n",
       "      <td>5.000000</td>\n",
       "      <td>2.000000</td>\n",
       "      <td>1.000000</td>\n",
       "      <td>95.582619</td>\n",
       "      <td>4.040000</td>\n",
       "      <td>1.855000</td>\n",
       "      <td>3.914750</td>\n",
       "      <td>1.691750</td>\n",
       "      <td>86.000000</td>\n",
       "    </tr>\n",
       "    <tr>\n",
       "      <th>50%</th>\n",
       "      <td>112.000000</td>\n",
       "      <td>8.302016</td>\n",
       "      <td>4.553308</td>\n",
       "      <td>3.000000</td>\n",
       "      <td>122.000000</td>\n",
       "      <td>4.258000</td>\n",
       "      <td>1.993000</td>\n",
       "      <td>4.179000</td>\n",
       "      <td>1.935000</td>\n",
       "      <td>113.000000</td>\n",
       "    </tr>\n",
       "    <tr>\n",
       "      <th>75%</th>\n",
       "      <td>133.000000</td>\n",
       "      <td>13.000000</td>\n",
       "      <td>10.000000</td>\n",
       "      <td>5.000000</td>\n",
       "      <td>142.000000</td>\n",
       "      <td>4.523000</td>\n",
       "      <td>2.229000</td>\n",
       "      <td>4.440000</td>\n",
       "      <td>2.114250</td>\n",
       "      <td>134.250000</td>\n",
       "    </tr>\n",
       "    <tr>\n",
       "      <th>max</th>\n",
       "      <td>219.591194</td>\n",
       "      <td>78.000000</td>\n",
       "      <td>284.654213</td>\n",
       "      <td>41.000000</td>\n",
       "      <td>253.000000</td>\n",
       "      <td>5.207000</td>\n",
       "      <td>2.757000</td>\n",
       "      <td>5.429000</td>\n",
       "      <td>2.985000</td>\n",
       "      <td>259.000000</td>\n",
       "    </tr>\n",
       "  </tbody>\n",
       "</table>\n",
       "</div>"
      ],
      "text/plain": [
       "       correct_words_pm  added_words_pm  removed_words_pm  replaced_words_pm  \\\n",
       "count       2876.000000     2876.000000       2876.000000        2876.000000   \n",
       "mean         107.682377        9.626946         11.225832           3.795793   \n",
       "std           36.296089        6.614929         24.599078           3.765989   \n",
       "min            0.000000        0.000000          0.000000           0.000000   \n",
       "25%           85.000000        5.000000          2.000000           1.000000   \n",
       "50%          112.000000        8.302016          4.553308           3.000000   \n",
       "75%          133.000000       13.000000         10.000000           5.000000   \n",
       "max          219.591194       78.000000        284.654213          41.000000   \n",
       "\n",
       "       asr_word_count_pm  prompt_avg_word_length  prompt_std_word_length  \\\n",
       "count        2876.000000             2876.000000             2876.000000   \n",
       "mean          117.619406                4.217915                1.969704   \n",
       "std            36.515448                0.513844                0.369361   \n",
       "min             0.803732                2.357000                0.667000   \n",
       "25%            95.582619                4.040000                1.855000   \n",
       "50%           122.000000                4.258000                1.993000   \n",
       "75%           142.000000                4.523000                2.229000   \n",
       "max           253.000000                5.207000                2.757000   \n",
       "\n",
       "       asr_avg_word_length  asr_std_word_length   human_wcpm  \n",
       "count          2876.000000          2876.000000  2876.000000  \n",
       "mean              4.129150             1.882962   109.109875  \n",
       "std               0.536421             0.359985    37.148994  \n",
       "min               2.000000             0.000000     0.000000  \n",
       "25%               3.914750             1.691750    86.000000  \n",
       "50%               4.179000             1.935000   113.000000  \n",
       "75%               4.440000             2.114250   134.250000  \n",
       "max               5.429000             2.985000   259.000000  "
      ]
     },
     "execution_count": 6,
     "metadata": {},
     "output_type": "execute_result"
    }
   ],
   "source": [
    "trainer.features.describe()"
   ]
  },
  {
   "cell_type": "markdown",
   "metadata": {},
   "source": [
    "#### Now, let's train the model and evaluate it's performances on the test set"
   ]
  },
  {
   "cell_type": "code",
   "execution_count": null,
   "metadata": {},
   "outputs": [],
   "source": [
    "trainer.train()"
   ]
  },
  {
   "cell_type": "code",
   "execution_count": null,
   "metadata": {
    "scrolled": false
   },
   "outputs": [],
   "source": [
    "_, summary, errors = trainer.evaluate_model()\n",
    "print(summary)\n",
    "print(errors)"
   ]
  },
  {
   "cell_type": "markdown",
   "metadata": {},
   "source": [
    "#### Now we want to train another model, but without having to redo the preprocesssing: we can use self.set_new_model() and specify both the model type and the params for the model. "
   ]
  },
  {
   "cell_type": "code",
   "execution_count": 156,
   "metadata": {
    "scrolled": false
   },
   "outputs": [
    {
     "name": "stderr",
     "output_type": "stream",
     "text": [
      "2020-10-07 19:57:46,210 root         INFO     Training KNN\n"
     ]
    },
    {
     "data": {
      "image/png": "[encoded data removed]",
      "text/plain": [
       "<Figure size 1152x432 with 1 Axes>"
      ]
     },
     "metadata": {},
     "output_type": "display_data"
    }
   ],
   "source": [
    "# model_type = 'XGB'\n",
    "# params = {'n_estimators': 200,\n",
    "#           'learning_rate': 0.04,\n",
    "#           'max_depth': 5,\n",
    "#           'subsample': 0.8,\n",
    "# #           'colsample_bytree': 0.9,\n",
    "#           'gamma': 0\n",
    "#          }\n",
    "\n",
    "# model_type = 'KNN'\n",
    "# params = {'n_neighbors': 4,\n",
    "#           'weights': 'distance'\n",
    "#          }\n",
    "\n",
    "model_type = 'RF'\n",
    "params = {'max_features': 6,\n",
    "          'n_estimators': 200,\n",
    "          'max_depth': 20,\n",
    "          'min_samples_split': 8,\n",
    "          'min_samples_leaf': 2,\n",
    "          'bootstrap': True\n",
    "         }\n",
    "\n",
    "trainer.set_new_model(model_type = model_type,\n",
    "                      params = params\n",
    "                     )\n",
    "trainer.train()\n",
    "# trainer.feature_importance(threshold = 0)\n",
    "stats, summary, errors = trainer.evaluate_model(visualize = True)"
   ]
  },
  {
   "cell_type": "code",
   "execution_count": 157,
   "metadata": {},
   "outputs": [
    {
     "data": {
      "text/html": [
       "<div>\n",
       "<style scoped>\n",
       "    .dataframe tbody tr th:only-of-type {\n",
       "        vertical-align: middle;\n",
       "    }\n",
       "\n",
       "    .dataframe tbody tr th {\n",
       "        vertical-align: top;\n",
       "    }\n",
       "\n",
       "    .dataframe thead tr th {\n",
       "        text-align: left;\n",
       "    }\n",
       "\n",
       "    .dataframe thead tr:last-of-type th {\n",
       "        text-align: right;\n",
       "    }\n",
       "</style>\n",
       "<table border=\"1\" class=\"dataframe\">\n",
       "  <thead>\n",
       "    <tr>\n",
       "      <th></th>\n",
       "      <th colspan=\"2\" halign=\"left\">wcpm_estimation_error</th>\n",
       "      <th colspan=\"2\" halign=\"left\">wcpm_estimation_abs_error</th>\n",
       "      <th colspan=\"2\" halign=\"left\">wcpm_estimation_error_%</th>\n",
       "      <th colspan=\"2\" halign=\"left\">wcpm_estimation_abs_error_%</th>\n",
       "    </tr>\n",
       "    <tr>\n",
       "      <th></th>\n",
       "      <th>mean</th>\n",
       "      <th>std</th>\n",
       "      <th>mean</th>\n",
       "      <th>std</th>\n",
       "      <th>mean</th>\n",
       "      <th>std</th>\n",
       "      <th>mean</th>\n",
       "      <th>std</th>\n",
       "    </tr>\n",
       "    <tr>\n",
       "      <th>wcpm_bin</th>\n",
       "      <th></th>\n",
       "      <th></th>\n",
       "      <th></th>\n",
       "      <th></th>\n",
       "      <th></th>\n",
       "      <th></th>\n",
       "      <th></th>\n",
       "      <th></th>\n",
       "    </tr>\n",
       "  </thead>\n",
       "  <tbody>\n",
       "    <tr>\n",
       "      <th>150+</th>\n",
       "      <td>7.29</td>\n",
       "      <td>15.22</td>\n",
       "      <td>8.25</td>\n",
       "      <td>14.71</td>\n",
       "      <td>3.91</td>\n",
       "      <td>6.60</td>\n",
       "      <td>4.49</td>\n",
       "      <td>6.21</td>\n",
       "    </tr>\n",
       "    <tr>\n",
       "      <th>75-150</th>\n",
       "      <td>-0.24</td>\n",
       "      <td>5.96</td>\n",
       "      <td>4.15</td>\n",
       "      <td>4.28</td>\n",
       "      <td>-0.52</td>\n",
       "      <td>5.89</td>\n",
       "      <td>3.92</td>\n",
       "      <td>4.42</td>\n",
       "    </tr>\n",
       "    <tr>\n",
       "      <th>&lt;75</th>\n",
       "      <td>-4.45</td>\n",
       "      <td>8.04</td>\n",
       "      <td>6.99</td>\n",
       "      <td>5.95</td>\n",
       "      <td>-13.68</td>\n",
       "      <td>32.26</td>\n",
       "      <td>18.42</td>\n",
       "      <td>29.79</td>\n",
       "    </tr>\n",
       "    <tr>\n",
       "      <th>total</th>\n",
       "      <td>-0.15</td>\n",
       "      <td>8.49</td>\n",
       "      <td>5.12</td>\n",
       "      <td>6.76</td>\n",
       "      <td>-2.40</td>\n",
       "      <td>15.68</td>\n",
       "      <td>6.60</td>\n",
       "      <td>14.42</td>\n",
       "    </tr>\n",
       "  </tbody>\n",
       "</table>\n",
       "</div>"
      ],
      "text/plain": [
       "         wcpm_estimation_error        wcpm_estimation_abs_error         \\\n",
       "                          mean    std                      mean    std   \n",
       "wcpm_bin                                                                 \n",
       "150+                      7.29  15.22                      8.25  14.71   \n",
       "75-150                   -0.24   5.96                      4.15   4.28   \n",
       "<75                      -4.45   8.04                      6.99   5.95   \n",
       "total                    -0.15   8.49                      5.12   6.76   \n",
       "\n",
       "         wcpm_estimation_error_%        wcpm_estimation_abs_error_%         \n",
       "                            mean    std                        mean    std  \n",
       "wcpm_bin                                                                    \n",
       "150+                        3.91   6.60                        4.49   6.21  \n",
       "75-150                     -0.52   5.89                        3.92   4.42  \n",
       "<75                       -13.68  32.26                       18.42  29.79  \n",
       "total                      -2.40  15.68                        6.60  14.42  "
      ]
     },
     "execution_count": 157,
     "metadata": {},
     "output_type": "execute_result"
    }
   ],
   "source": [
    "summary"
   ]
  },
  {
   "cell_type": "code",
   "execution_count": 158,
   "metadata": {},
   "outputs": [
    {
     "data": {
      "text/html": [
       "<div>\n",
       "<style scoped>\n",
       "    .dataframe tbody tr th:only-of-type {\n",
       "        vertical-align: middle;\n",
       "    }\n",
       "\n",
       "    .dataframe tbody tr th {\n",
       "        vertical-align: top;\n",
       "    }\n",
       "\n",
       "    .dataframe thead tr th {\n",
       "        text-align: left;\n",
       "    }\n",
       "\n",
       "    .dataframe thead tr:last-of-type th {\n",
       "        text-align: right;\n",
       "    }\n",
       "</style>\n",
       "<table border=\"1\" class=\"dataframe\">\n",
       "  <thead>\n",
       "    <tr>\n",
       "      <th></th>\n",
       "      <th colspan=\"2\" halign=\"left\">Total Count</th>\n",
       "      <th colspan=\"2\" halign=\"left\">Error &gt; 1%</th>\n",
       "      <th colspan=\"2\" halign=\"left\">Error &gt; 5%</th>\n",
       "      <th colspan=\"2\" halign=\"left\">Error &gt; 10%</th>\n",
       "    </tr>\n",
       "    <tr>\n",
       "      <th></th>\n",
       "      <th>count</th>\n",
       "      <th>% of bin</th>\n",
       "      <th>count</th>\n",
       "      <th>% of bin</th>\n",
       "      <th>count</th>\n",
       "      <th>% of bin</th>\n",
       "      <th>count</th>\n",
       "      <th>% of bin</th>\n",
       "    </tr>\n",
       "    <tr>\n",
       "      <th>wcpm_bin</th>\n",
       "      <th></th>\n",
       "      <th></th>\n",
       "      <th></th>\n",
       "      <th></th>\n",
       "      <th></th>\n",
       "      <th></th>\n",
       "      <th></th>\n",
       "      <th></th>\n",
       "    </tr>\n",
       "  </thead>\n",
       "  <tbody>\n",
       "    <tr>\n",
       "      <th>150+</th>\n",
       "      <td>65.0</td>\n",
       "      <td>100.0</td>\n",
       "      <td>51.0</td>\n",
       "      <td>78.5</td>\n",
       "      <td>17.0</td>\n",
       "      <td>26.2</td>\n",
       "      <td>6.0</td>\n",
       "      <td>9.2</td>\n",
       "    </tr>\n",
       "    <tr>\n",
       "      <th>75-150</th>\n",
       "      <td>407.0</td>\n",
       "      <td>100.0</td>\n",
       "      <td>317.0</td>\n",
       "      <td>77.9</td>\n",
       "      <td>116.0</td>\n",
       "      <td>28.5</td>\n",
       "      <td>25.0</td>\n",
       "      <td>6.1</td>\n",
       "    </tr>\n",
       "    <tr>\n",
       "      <th>&lt;75</th>\n",
       "      <td>104.0</td>\n",
       "      <td>100.0</td>\n",
       "      <td>98.0</td>\n",
       "      <td>94.2</td>\n",
       "      <td>75.0</td>\n",
       "      <td>72.1</td>\n",
       "      <td>61.0</td>\n",
       "      <td>58.7</td>\n",
       "    </tr>\n",
       "    <tr>\n",
       "      <th>total</th>\n",
       "      <td>576.0</td>\n",
       "      <td>100.0</td>\n",
       "      <td>466.0</td>\n",
       "      <td>80.9</td>\n",
       "      <td>208.0</td>\n",
       "      <td>36.1</td>\n",
       "      <td>92.0</td>\n",
       "      <td>16.0</td>\n",
       "    </tr>\n",
       "  </tbody>\n",
       "</table>\n",
       "</div>"
      ],
      "text/plain": [
       "         Total Count          Error > 1%          Error > 5%           \\\n",
       "               count % of bin      count % of bin      count % of bin   \n",
       "wcpm_bin                                                                \n",
       "150+            65.0    100.0       51.0     78.5       17.0     26.2   \n",
       "75-150         407.0    100.0      317.0     77.9      116.0     28.5   \n",
       "<75            104.0    100.0       98.0     94.2       75.0     72.1   \n",
       "total          576.0    100.0      466.0     80.9      208.0     36.1   \n",
       "\n",
       "         Error > 10%           \n",
       "               count % of bin  \n",
       "wcpm_bin                       \n",
       "150+             6.0      9.2  \n",
       "75-150          25.0      6.1  \n",
       "<75             61.0     58.7  \n",
       "total           92.0     16.0  "
      ]
     },
     "execution_count": 158,
     "metadata": {},
     "output_type": "execute_result"
    }
   ],
   "source": [
    "errors"
   ]
  },
  {
   "cell_type": "code",
   "execution_count": 159,
   "metadata": {},
   "outputs": [
    {
     "data": {
      "image/png": "[encoded data removed]",
      "text/plain": [
       "<Figure size 1152x432 with 1 Axes>"
      ]
     },
     "metadata": {},
     "output_type": "display_data"
    }
   ],
   "source": [
    "trainer.plot_wcpm_scatter(stats, y = 'wcpm_estimation', x = 'human_wcpm')"
   ]
  },
  {
   "cell_type": "code",
   "execution_count": 160,
   "metadata": {},
   "outputs": [
    {
     "data": {
      "image/png": "[encoded data removed]",
      "text/plain": [
       "<Figure size 1152x432 with 1 Axes>"
      ]
     },
     "metadata": {},
     "output_type": "display_data"
    }
   ],
   "source": [
    "trainer.plot_wcpm_distribution(stats, x='wcpm_estimation_abs_error_%', binwidth=.005)"
   ]
  },
  {
   "cell_type": "markdown",
   "metadata": {},
   "source": [
    "## 4. Grid search"
   ]
  },
  {
   "cell_type": "code",
   "execution_count": 217,
   "metadata": {},
   "outputs": [],
   "source": [
    "# RandomForestRegressor\n",
    "model_type = 'RF'\n",
    "cv_params={\n",
    "#     'max_features': np.arange(1, 9, 1),\n",
    "    'max_features': [6],\n",
    "#     'n_estimators': list(np.arange(100, 2001, 100)),\n",
    "    'n_estimators': [600],\n",
    "#     'max_depth': np.arange(5, 120, 5),\n",
    "#     'max_depth': np.arange(1, 20, 1)\n",
    "    'max_depth': [10],\n",
    "#     'min_samples_split': np.arange(1, 15, 1),\n",
    "    'min_samples_split': [4],\n",
    "#     'min_samples_leaf': np.arange(1, 6, 1)\n",
    "    'min_samples_leaf': [1],\n",
    "    'bootstrap': [True]\n",
    "}\n",
    "\n",
    "# XGBoostRegressors\n",
    "# model_type = 'XGB'\n",
    "# cv_params = {\n",
    "# #     'n_estimators': list(np.arange(10, 100, 10)) + list(np.arange(100, 2001, 100)),\n",
    "# #     'n_estimators': [200, 300, 400, 500, 600, 700, 1000],\n",
    "#     'n_estimators': [200],\n",
    "# #     'learning_rate': np.arange(0.0, 0.101, 0.005),\n",
    "# #     'learning_rate': [0.01, 0.02, 0.04, 0.05, 0.1],\n",
    "#     'learning_rate': [0.04],\n",
    "# #     'max_depth': np.arange(3, 26, 1)\n",
    "#     'max_depth': [5],\n",
    "# #     'subsample': np.arange(0.6, 1, 0.01),\n",
    "#     'subsample': [0.8],\n",
    "# #     'colsample_bytree': np.arange(0.3, 1, 0.02),\n",
    "# #     'colsample_bytree': [0.9],\n",
    "# #     'gamma': [0, 1, 5]\n",
    "#     'gamma': [0]\n",
    "# }\n",
    "\n",
    "# KNN\n",
    "# model_type = 'KNN'\n",
    "# cv_params = {\n",
    "#     \"n_neighbors\": np.arange(1, 30, 1),\n",
    "#     'weights': ['uniform', 'distance']\n",
    "# }"
   ]
  },
  {
   "cell_type": "code",
   "execution_count": 218,
   "metadata": {
    "scrolled": false
   },
   "outputs": [
    {
     "name": "stdout",
     "output_type": "stream",
     "text": [
      "\n",
      "------------------------------------------------------ Estimator: ------------------------------------------------------\n",
      "RandomForestRegressor\n",
      "\n",
      "------------------------------------------------ Metric for evaluation: ------------------------------------------------\n",
      "r2\n",
      "\n",
      "---------------------------------------------------- Fixed params: -----------------------------------------------------\n",
      "max_features 6\n",
      "n_estimators 600\n",
      "max_depth 10\n",
      "min_samples_split 4\n",
      "min_samples_leaf 1\n",
      "bootstrap True\n",
      "\n",
      "------------------------------------------------- Params to be tested: -------------------------------------------------\n",
      "\n",
      " # of possible combinations to be cross-validated: 1\n",
      "\n",
      "Continue with these c-v parameters ? (y/n)  y\n",
      "Fitting 5 folds for each of 1 candidates, totalling 5 fits\n"
     ]
    },
    {
     "name": "stderr",
     "output_type": "stream",
     "text": [
      "[Parallel(n_jobs=-1)]: Using backend LokyBackend with 4 concurrent workers.\n",
      "[Parallel(n_jobs=-1)]: Done   2 out of   5 | elapsed:   11.5s remaining:   17.3s\n",
      "[Parallel(n_jobs=-1)]: Done   5 out of   5 | elapsed:   17.2s finished\n"
     ]
    }
   ],
   "source": [
    "gd = trainer.grid_search(model_type = model_type,\n",
    "                         cv_params=cv_params,\n",
    "                         cv_folds=5,\n",
    "                         scoring_metric = 'r2',\n",
    "                         verbose = 5\n",
    "                        )"
   ]
  },
  {
   "cell_type": "code",
   "execution_count": 219,
   "metadata": {
    "scrolled": false
   },
   "outputs": [
    {
     "name": "stdout",
     "output_type": "stream",
     "text": [
      "{}\n"
     ]
    },
    {
     "ename": "ValueError",
     "evalue": "Could not interpret value `param_n_estimators` for parameter `x`",
     "output_type": "error",
     "traceback": [
      "\u001b[1;31m---------------------------------------------------------------------------\u001b[0m",
      "\u001b[1;31mValueError\u001b[0m                                Traceback (most recent call last)",
      "\u001b[1;32m<ipython-input-219-2dd1c6f1fa5e>\u001b[0m in \u001b[0;36m<module>\u001b[1;34m\u001b[0m\n\u001b[0;32m      1\u001b[0m \u001b[0mprint\u001b[0m\u001b[1;33m(\u001b[0m\u001b[0mgd\u001b[0m\u001b[1;33m.\u001b[0m\u001b[0mbest_params_\u001b[0m\u001b[1;33m)\u001b[0m\u001b[1;33m\u001b[0m\u001b[1;33m\u001b[0m\u001b[0m\n\u001b[1;32m----> 2\u001b[1;33m \u001b[0mtrainer\u001b[0m\u001b[1;33m.\u001b[0m\u001b[0mplot_grid_search\u001b[0m\u001b[1;33m(\u001b[0m\u001b[0mgd\u001b[0m\u001b[1;33m.\u001b[0m\u001b[0mcv_results_\u001b[0m\u001b[1;33m,\u001b[0m \u001b[0mx\u001b[0m\u001b[1;33m=\u001b[0m\u001b[1;34m'n_estimators'\u001b[0m\u001b[1;33m,\u001b[0m \u001b[0mhue\u001b[0m\u001b[1;33m=\u001b[0m\u001b[1;32mNone\u001b[0m\u001b[1;33m,\u001b[0m \u001b[0mlog_scale\u001b[0m \u001b[1;33m=\u001b[0m \u001b[1;32mFalse\u001b[0m\u001b[1;33m)\u001b[0m\u001b[1;33m\u001b[0m\u001b[1;33m\u001b[0m\u001b[0m\n\u001b[0m",
      "\u001b[1;32m~\\Desktop\\literably-insight-project\\litscore\\train.py\u001b[0m in \u001b[0;36mplot_grid_search\u001b[1;34m(self, cv_results, x, hue, y, log_scale)\u001b[0m\n\u001b[0;32m    235\u001b[0m         \u001b[1;32mif\u001b[0m \u001b[0mhue\u001b[0m \u001b[1;32mis\u001b[0m \u001b[1;32mnot\u001b[0m \u001b[1;32mNone\u001b[0m\u001b[1;33m:\u001b[0m\u001b[1;33m\u001b[0m\u001b[1;33m\u001b[0m\u001b[0m\n\u001b[0;32m    236\u001b[0m             \u001b[0mhue\u001b[0m \u001b[1;33m=\u001b[0m \u001b[1;34m'param_'\u001b[0m \u001b[1;33m+\u001b[0m \u001b[0mhue\u001b[0m\u001b[1;33m\u001b[0m\u001b[1;33m\u001b[0m\u001b[0m\n\u001b[1;32m--> 237\u001b[1;33m         \u001b[0mx\u001b[0m \u001b[1;33m=\u001b[0m \u001b[1;34m'param_'\u001b[0m \u001b[1;33m+\u001b[0m \u001b[0mx\u001b[0m\u001b[1;33m\u001b[0m\u001b[1;33m\u001b[0m\u001b[0m\n\u001b[0m\u001b[0;32m    238\u001b[0m         \u001b[1;31m# Plot Grid search scores\u001b[0m\u001b[1;33m\u001b[0m\u001b[1;33m\u001b[0m\u001b[1;33m\u001b[0m\u001b[0m\n\u001b[0;32m    239\u001b[0m         \u001b[0mplt\u001b[0m\u001b[1;33m.\u001b[0m\u001b[0mstyle\u001b[0m\u001b[1;33m.\u001b[0m\u001b[0muse\u001b[0m\u001b[1;33m(\u001b[0m\u001b[1;34m\"seaborn-darkgrid\"\u001b[0m\u001b[1;33m)\u001b[0m\u001b[1;33m\u001b[0m\u001b[1;33m\u001b[0m\u001b[0m\n",
      "\u001b[1;32m~\\AppData\\Local\\Programs\\Python\\Python37\\lib\\site-packages\\seaborn\\_decorators.py\u001b[0m in \u001b[0;36minner_f\u001b[1;34m(*args, **kwargs)\u001b[0m\n\u001b[0;32m     44\u001b[0m             )\n\u001b[0;32m     45\u001b[0m         \u001b[0mkwargs\u001b[0m\u001b[1;33m.\u001b[0m\u001b[0mupdate\u001b[0m\u001b[1;33m(\u001b[0m\u001b[1;33m{\u001b[0m\u001b[0mk\u001b[0m\u001b[1;33m:\u001b[0m \u001b[0marg\u001b[0m \u001b[1;32mfor\u001b[0m \u001b[0mk\u001b[0m\u001b[1;33m,\u001b[0m \u001b[0marg\u001b[0m \u001b[1;32min\u001b[0m \u001b[0mzip\u001b[0m\u001b[1;33m(\u001b[0m\u001b[0msig\u001b[0m\u001b[1;33m.\u001b[0m\u001b[0mparameters\u001b[0m\u001b[1;33m,\u001b[0m \u001b[0margs\u001b[0m\u001b[1;33m)\u001b[0m\u001b[1;33m}\u001b[0m\u001b[1;33m)\u001b[0m\u001b[1;33m\u001b[0m\u001b[1;33m\u001b[0m\u001b[0m\n\u001b[1;32m---> 46\u001b[1;33m         \u001b[1;32mreturn\u001b[0m \u001b[0mf\u001b[0m\u001b[1;33m(\u001b[0m\u001b[1;33m**\u001b[0m\u001b[0mkwargs\u001b[0m\u001b[1;33m)\u001b[0m\u001b[1;33m\u001b[0m\u001b[1;33m\u001b[0m\u001b[0m\n\u001b[0m\u001b[0;32m     47\u001b[0m     \u001b[1;32mreturn\u001b[0m \u001b[0minner_f\u001b[0m\u001b[1;33m\u001b[0m\u001b[1;33m\u001b[0m\u001b[0m\n\u001b[0;32m     48\u001b[0m \u001b[1;33m\u001b[0m\u001b[0m\n",
      "\u001b[1;32m~\\AppData\\Local\\Programs\\Python\\Python37\\lib\\site-packages\\seaborn\\relational.py\u001b[0m in \u001b[0;36mlineplot\u001b[1;34m(x, y, hue, size, style, data, palette, hue_order, hue_norm, sizes, size_order, size_norm, dashes, markers, style_order, units, estimator, ci, n_boot, seed, sort, err_style, err_kws, legend, ax, **kwargs)\u001b[0m\n\u001b[0;32m    679\u001b[0m         \u001b[0mdata\u001b[0m\u001b[1;33m=\u001b[0m\u001b[0mdata\u001b[0m\u001b[1;33m,\u001b[0m \u001b[0mvariables\u001b[0m\u001b[1;33m=\u001b[0m\u001b[0mvariables\u001b[0m\u001b[1;33m,\u001b[0m\u001b[1;33m\u001b[0m\u001b[1;33m\u001b[0m\u001b[0m\n\u001b[0;32m    680\u001b[0m         \u001b[0mestimator\u001b[0m\u001b[1;33m=\u001b[0m\u001b[0mestimator\u001b[0m\u001b[1;33m,\u001b[0m \u001b[0mci\u001b[0m\u001b[1;33m=\u001b[0m\u001b[0mci\u001b[0m\u001b[1;33m,\u001b[0m \u001b[0mn_boot\u001b[0m\u001b[1;33m=\u001b[0m\u001b[0mn_boot\u001b[0m\u001b[1;33m,\u001b[0m \u001b[0mseed\u001b[0m\u001b[1;33m=\u001b[0m\u001b[0mseed\u001b[0m\u001b[1;33m,\u001b[0m\u001b[1;33m\u001b[0m\u001b[1;33m\u001b[0m\u001b[0m\n\u001b[1;32m--> 681\u001b[1;33m         \u001b[0msort\u001b[0m\u001b[1;33m=\u001b[0m\u001b[0msort\u001b[0m\u001b[1;33m,\u001b[0m \u001b[0merr_style\u001b[0m\u001b[1;33m=\u001b[0m\u001b[0merr_style\u001b[0m\u001b[1;33m,\u001b[0m \u001b[0merr_kws\u001b[0m\u001b[1;33m=\u001b[0m\u001b[0merr_kws\u001b[0m\u001b[1;33m,\u001b[0m \u001b[0mlegend\u001b[0m\u001b[1;33m=\u001b[0m\u001b[0mlegend\u001b[0m\u001b[1;33m,\u001b[0m\u001b[1;33m\u001b[0m\u001b[1;33m\u001b[0m\u001b[0m\n\u001b[0m\u001b[0;32m    682\u001b[0m     )\n\u001b[0;32m    683\u001b[0m \u001b[1;33m\u001b[0m\u001b[0m\n",
      "\u001b[1;32m~\\AppData\\Local\\Programs\\Python\\Python37\\lib\\site-packages\\seaborn\\relational.py\u001b[0m in \u001b[0;36m__init__\u001b[1;34m(self, data, variables, estimator, ci, n_boot, seed, sort, err_style, err_kws, legend)\u001b[0m\n\u001b[0;32m    365\u001b[0m         )\n\u001b[0;32m    366\u001b[0m \u001b[1;33m\u001b[0m\u001b[0m\n\u001b[1;32m--> 367\u001b[1;33m         \u001b[0msuper\u001b[0m\u001b[1;33m(\u001b[0m\u001b[1;33m)\u001b[0m\u001b[1;33m.\u001b[0m\u001b[0m__init__\u001b[0m\u001b[1;33m(\u001b[0m\u001b[0mdata\u001b[0m\u001b[1;33m=\u001b[0m\u001b[0mdata\u001b[0m\u001b[1;33m,\u001b[0m \u001b[0mvariables\u001b[0m\u001b[1;33m=\u001b[0m\u001b[0mvariables\u001b[0m\u001b[1;33m)\u001b[0m\u001b[1;33m\u001b[0m\u001b[1;33m\u001b[0m\u001b[0m\n\u001b[0m\u001b[0;32m    368\u001b[0m \u001b[1;33m\u001b[0m\u001b[0m\n\u001b[0;32m    369\u001b[0m         \u001b[0mself\u001b[0m\u001b[1;33m.\u001b[0m\u001b[0mestimator\u001b[0m \u001b[1;33m=\u001b[0m \u001b[0mestimator\u001b[0m\u001b[1;33m\u001b[0m\u001b[1;33m\u001b[0m\u001b[0m\n",
      "\u001b[1;32m~\\AppData\\Local\\Programs\\Python\\Python37\\lib\\site-packages\\seaborn\\_core.py\u001b[0m in \u001b[0;36m__init__\u001b[1;34m(self, data, variables)\u001b[0m\n\u001b[0;32m    602\u001b[0m     \u001b[1;32mdef\u001b[0m \u001b[0m__init__\u001b[0m\u001b[1;33m(\u001b[0m\u001b[0mself\u001b[0m\u001b[1;33m,\u001b[0m \u001b[0mdata\u001b[0m\u001b[1;33m=\u001b[0m\u001b[1;32mNone\u001b[0m\u001b[1;33m,\u001b[0m \u001b[0mvariables\u001b[0m\u001b[1;33m=\u001b[0m\u001b[1;33m{\u001b[0m\u001b[1;33m}\u001b[0m\u001b[1;33m)\u001b[0m\u001b[1;33m:\u001b[0m\u001b[1;33m\u001b[0m\u001b[1;33m\u001b[0m\u001b[0m\n\u001b[0;32m    603\u001b[0m \u001b[1;33m\u001b[0m\u001b[0m\n\u001b[1;32m--> 604\u001b[1;33m         \u001b[0mself\u001b[0m\u001b[1;33m.\u001b[0m\u001b[0massign_variables\u001b[0m\u001b[1;33m(\u001b[0m\u001b[0mdata\u001b[0m\u001b[1;33m,\u001b[0m \u001b[0mvariables\u001b[0m\u001b[1;33m)\u001b[0m\u001b[1;33m\u001b[0m\u001b[1;33m\u001b[0m\u001b[0m\n\u001b[0m\u001b[0;32m    605\u001b[0m \u001b[1;33m\u001b[0m\u001b[0m\n\u001b[0;32m    606\u001b[0m         \u001b[1;32mfor\u001b[0m \u001b[0mvar\u001b[0m\u001b[1;33m,\u001b[0m \u001b[0mcls\u001b[0m \u001b[1;32min\u001b[0m \u001b[0mself\u001b[0m\u001b[1;33m.\u001b[0m\u001b[0m_semantic_mappings\u001b[0m\u001b[1;33m.\u001b[0m\u001b[0mitems\u001b[0m\u001b[1;33m(\u001b[0m\u001b[1;33m)\u001b[0m\u001b[1;33m:\u001b[0m\u001b[1;33m\u001b[0m\u001b[1;33m\u001b[0m\u001b[0m\n",
      "\u001b[1;32m~\\AppData\\Local\\Programs\\Python\\Python37\\lib\\site-packages\\seaborn\\_core.py\u001b[0m in \u001b[0;36massign_variables\u001b[1;34m(self, data, variables)\u001b[0m\n\u001b[0;32m    666\u001b[0m             \u001b[0mself\u001b[0m\u001b[1;33m.\u001b[0m\u001b[0minput_format\u001b[0m \u001b[1;33m=\u001b[0m \u001b[1;34m\"long\"\u001b[0m\u001b[1;33m\u001b[0m\u001b[1;33m\u001b[0m\u001b[0m\n\u001b[0;32m    667\u001b[0m             plot_data, variables = self._assign_variables_longform(\n\u001b[1;32m--> 668\u001b[1;33m                 \u001b[0mdata\u001b[0m\u001b[1;33m,\u001b[0m \u001b[1;33m**\u001b[0m\u001b[0mvariables\u001b[0m\u001b[1;33m,\u001b[0m\u001b[1;33m\u001b[0m\u001b[1;33m\u001b[0m\u001b[0m\n\u001b[0m\u001b[0;32m    669\u001b[0m             )\n\u001b[0;32m    670\u001b[0m \u001b[1;33m\u001b[0m\u001b[0m\n",
      "\u001b[1;32m~\\AppData\\Local\\Programs\\Python\\Python37\\lib\\site-packages\\seaborn\\_core.py\u001b[0m in \u001b[0;36m_assign_variables_longform\u001b[1;34m(self, data, **kwargs)\u001b[0m\n\u001b[0;32m    885\u001b[0m                     \u001b[1;31m# We don't know what this name means\u001b[0m\u001b[1;33m\u001b[0m\u001b[1;33m\u001b[0m\u001b[1;33m\u001b[0m\u001b[0m\n\u001b[0;32m    886\u001b[0m                     \u001b[0merr\u001b[0m \u001b[1;33m=\u001b[0m \u001b[1;34mf\"Could not interpret value `{val}` for parameter `{key}`\"\u001b[0m\u001b[1;33m\u001b[0m\u001b[1;33m\u001b[0m\u001b[0m\n\u001b[1;32m--> 887\u001b[1;33m                     \u001b[1;32mraise\u001b[0m \u001b[0mValueError\u001b[0m\u001b[1;33m(\u001b[0m\u001b[0merr\u001b[0m\u001b[1;33m)\u001b[0m\u001b[1;33m\u001b[0m\u001b[1;33m\u001b[0m\u001b[0m\n\u001b[0m\u001b[0;32m    888\u001b[0m \u001b[1;33m\u001b[0m\u001b[0m\n\u001b[0;32m    889\u001b[0m             \u001b[1;32melse\u001b[0m\u001b[1;33m:\u001b[0m\u001b[1;33m\u001b[0m\u001b[1;33m\u001b[0m\u001b[0m\n",
      "\u001b[1;31mValueError\u001b[0m: Could not interpret value `param_n_estimators` for parameter `x`"
     ]
    },
    {
     "data": {
      "image/png": "[encoded data removed]",
      "text/plain": [
       "<Figure size 720x288 with 1 Axes>"
      ]
     },
     "metadata": {},
     "output_type": "display_data"
    }
   ],
   "source": [
    "print(gd.best_params_)\n",
    "trainer.plot_grid_search(gd.cv_results_, x='n_estimators', hue=None, log_scale = False)"
   ]
  },
  {
   "cell_type": "code",
   "execution_count": 220,
   "metadata": {},
   "outputs": [],
   "source": [
    "stats, summary, errors = trainer.evaluate_model(visualize = False)"
   ]
  },
  {
   "cell_type": "code",
   "execution_count": 221,
   "metadata": {},
   "outputs": [
    {
     "data": {
      "text/html": [
       "<div>\n",
       "<style scoped>\n",
       "    .dataframe tbody tr th:only-of-type {\n",
       "        vertical-align: middle;\n",
       "    }\n",
       "\n",
       "    .dataframe tbody tr th {\n",
       "        vertical-align: top;\n",
       "    }\n",
       "\n",
       "    .dataframe thead tr th {\n",
       "        text-align: left;\n",
       "    }\n",
       "\n",
       "    .dataframe thead tr:last-of-type th {\n",
       "        text-align: right;\n",
       "    }\n",
       "</style>\n",
       "<table border=\"1\" class=\"dataframe\">\n",
       "  <thead>\n",
       "    <tr>\n",
       "      <th></th>\n",
       "      <th colspan=\"2\" halign=\"left\">wcpm_estimation_error</th>\n",
       "      <th colspan=\"2\" halign=\"left\">wcpm_estimation_abs_error</th>\n",
       "      <th colspan=\"2\" halign=\"left\">wcpm_estimation_error_%</th>\n",
       "      <th colspan=\"2\" halign=\"left\">wcpm_estimation_abs_error_%</th>\n",
       "    </tr>\n",
       "    <tr>\n",
       "      <th></th>\n",
       "      <th>mean</th>\n",
       "      <th>std</th>\n",
       "      <th>mean</th>\n",
       "      <th>std</th>\n",
       "      <th>mean</th>\n",
       "      <th>std</th>\n",
       "      <th>mean</th>\n",
       "      <th>std</th>\n",
       "    </tr>\n",
       "    <tr>\n",
       "      <th>wcpm_bin</th>\n",
       "      <th></th>\n",
       "      <th></th>\n",
       "      <th></th>\n",
       "      <th></th>\n",
       "      <th></th>\n",
       "      <th></th>\n",
       "      <th></th>\n",
       "      <th></th>\n",
       "    </tr>\n",
       "  </thead>\n",
       "  <tbody>\n",
       "    <tr>\n",
       "      <th>150+</th>\n",
       "      <td>2.83</td>\n",
       "      <td>9.19</td>\n",
       "      <td>4.63</td>\n",
       "      <td>8.42</td>\n",
       "      <td>1.42</td>\n",
       "      <td>4.35</td>\n",
       "      <td>2.54</td>\n",
       "      <td>3.79</td>\n",
       "    </tr>\n",
       "    <tr>\n",
       "      <th>75-150</th>\n",
       "      <td>-0.03</td>\n",
       "      <td>2.78</td>\n",
       "      <td>1.99</td>\n",
       "      <td>1.95</td>\n",
       "      <td>-0.10</td>\n",
       "      <td>2.53</td>\n",
       "      <td>1.80</td>\n",
       "      <td>1.78</td>\n",
       "    </tr>\n",
       "    <tr>\n",
       "      <th>&lt;75</th>\n",
       "      <td>-0.19</td>\n",
       "      <td>4.31</td>\n",
       "      <td>2.65</td>\n",
       "      <td>3.40</td>\n",
       "      <td>-1.64</td>\n",
       "      <td>13.11</td>\n",
       "      <td>6.79</td>\n",
       "      <td>11.32</td>\n",
       "    </tr>\n",
       "    <tr>\n",
       "      <th>total</th>\n",
       "      <td>0.26</td>\n",
       "      <td>4.37</td>\n",
       "      <td>2.40</td>\n",
       "      <td>3.65</td>\n",
       "      <td>-0.20</td>\n",
       "      <td>6.17</td>\n",
       "      <td>2.78</td>\n",
       "      <td>5.51</td>\n",
       "    </tr>\n",
       "  </tbody>\n",
       "</table>\n",
       "</div>"
      ],
      "text/plain": [
       "         wcpm_estimation_error       wcpm_estimation_abs_error        \\\n",
       "                          mean   std                      mean   std   \n",
       "wcpm_bin                                                               \n",
       "150+                      2.83  9.19                      4.63  8.42   \n",
       "75-150                   -0.03  2.78                      1.99  1.95   \n",
       "<75                      -0.19  4.31                      2.65  3.40   \n",
       "total                     0.26  4.37                      2.40  3.65   \n",
       "\n",
       "         wcpm_estimation_error_%        wcpm_estimation_abs_error_%         \n",
       "                            mean    std                        mean    std  \n",
       "wcpm_bin                                                                    \n",
       "150+                        1.42   4.35                        2.54   3.79  \n",
       "75-150                     -0.10   2.53                        1.80   1.78  \n",
       "<75                        -1.64  13.11                        6.79  11.32  \n",
       "total                      -0.20   6.17                        2.78   5.51  "
      ]
     },
     "execution_count": 221,
     "metadata": {},
     "output_type": "execute_result"
    }
   ],
   "source": [
    "summary"
   ]
  },
  {
   "cell_type": "code",
   "execution_count": 222,
   "metadata": {},
   "outputs": [
    {
     "data": {
      "text/html": [
       "<div>\n",
       "<style scoped>\n",
       "    .dataframe tbody tr th:only-of-type {\n",
       "        vertical-align: middle;\n",
       "    }\n",
       "\n",
       "    .dataframe tbody tr th {\n",
       "        vertical-align: top;\n",
       "    }\n",
       "\n",
       "    .dataframe thead tr th {\n",
       "        text-align: left;\n",
       "    }\n",
       "\n",
       "    .dataframe thead tr:last-of-type th {\n",
       "        text-align: right;\n",
       "    }\n",
       "</style>\n",
       "<table border=\"1\" class=\"dataframe\">\n",
       "  <thead>\n",
       "    <tr>\n",
       "      <th></th>\n",
       "      <th colspan=\"2\" halign=\"left\">Total Count</th>\n",
       "      <th colspan=\"2\" halign=\"left\">Error &gt; 1%</th>\n",
       "      <th colspan=\"2\" halign=\"left\">Error &gt; 5%</th>\n",
       "      <th colspan=\"2\" halign=\"left\">Error &gt; 10%</th>\n",
       "    </tr>\n",
       "    <tr>\n",
       "      <th></th>\n",
       "      <th>count</th>\n",
       "      <th>% of bin</th>\n",
       "      <th>count</th>\n",
       "      <th>% of bin</th>\n",
       "      <th>count</th>\n",
       "      <th>% of bin</th>\n",
       "      <th>count</th>\n",
       "      <th>% of bin</th>\n",
       "    </tr>\n",
       "    <tr>\n",
       "      <th>wcpm_bin</th>\n",
       "      <th></th>\n",
       "      <th></th>\n",
       "      <th></th>\n",
       "      <th></th>\n",
       "      <th></th>\n",
       "      <th></th>\n",
       "      <th></th>\n",
       "      <th></th>\n",
       "    </tr>\n",
       "  </thead>\n",
       "  <tbody>\n",
       "    <tr>\n",
       "      <th>150+</th>\n",
       "      <td>65.0</td>\n",
       "      <td>100.0</td>\n",
       "      <td>34.0</td>\n",
       "      <td>52.3</td>\n",
       "      <td>9.0</td>\n",
       "      <td>13.8</td>\n",
       "      <td>3.0</td>\n",
       "      <td>4.6</td>\n",
       "    </tr>\n",
       "    <tr>\n",
       "      <th>75-150</th>\n",
       "      <td>407.0</td>\n",
       "      <td>100.0</td>\n",
       "      <td>245.0</td>\n",
       "      <td>60.2</td>\n",
       "      <td>22.0</td>\n",
       "      <td>5.4</td>\n",
       "      <td>2.0</td>\n",
       "      <td>0.5</td>\n",
       "    </tr>\n",
       "    <tr>\n",
       "      <th>&lt;75</th>\n",
       "      <td>104.0</td>\n",
       "      <td>100.0</td>\n",
       "      <td>90.0</td>\n",
       "      <td>86.5</td>\n",
       "      <td>37.0</td>\n",
       "      <td>35.6</td>\n",
       "      <td>18.0</td>\n",
       "      <td>17.3</td>\n",
       "    </tr>\n",
       "    <tr>\n",
       "      <th>total</th>\n",
       "      <td>576.0</td>\n",
       "      <td>100.0</td>\n",
       "      <td>369.0</td>\n",
       "      <td>64.1</td>\n",
       "      <td>68.0</td>\n",
       "      <td>11.8</td>\n",
       "      <td>23.0</td>\n",
       "      <td>4.0</td>\n",
       "    </tr>\n",
       "  </tbody>\n",
       "</table>\n",
       "</div>"
      ],
      "text/plain": [
       "         Total Count          Error > 1%          Error > 5%           \\\n",
       "               count % of bin      count % of bin      count % of bin   \n",
       "wcpm_bin                                                                \n",
       "150+            65.0    100.0       34.0     52.3        9.0     13.8   \n",
       "75-150         407.0    100.0      245.0     60.2       22.0      5.4   \n",
       "<75            104.0    100.0       90.0     86.5       37.0     35.6   \n",
       "total          576.0    100.0      369.0     64.1       68.0     11.8   \n",
       "\n",
       "         Error > 10%           \n",
       "               count % of bin  \n",
       "wcpm_bin                       \n",
       "150+             3.0      4.6  \n",
       "75-150           2.0      0.5  \n",
       "<75             18.0     17.3  \n",
       "total           23.0      4.0  "
      ]
     },
     "execution_count": 222,
     "metadata": {},
     "output_type": "execute_result"
    }
   ],
   "source": [
    "errors"
   ]
  },
  {
   "cell_type": "code",
   "execution_count": 223,
   "metadata": {},
   "outputs": [
    {
     "data": {
      "image/png": "[encoded data removed]",
      "text/plain": [
       "<Figure size 576x576 with 1 Axes>"
      ]
     },
     "metadata": {},
     "output_type": "display_data"
    }
   ],
   "source": [
    "trainer.feature_importance()"
   ]
  },
  {
   "cell_type": "code",
   "execution_count": 224,
   "metadata": {},
   "outputs": [
    {
     "data": {
      "image/png": "[encoded data removed]",
      "text/plain": [
       "<Figure size 1152x432 with 1 Axes>"
      ]
     },
     "metadata": {},
     "output_type": "display_data"
    }
   ],
   "source": [
    "trainer.plot_wcpm_scatter(stats, y = 'wcpm_estimation', x = 'human_wcpm')"
   ]
  },
  {
   "cell_type": "code",
   "execution_count": 210,
   "metadata": {},
   "outputs": [
    {
     "name": "stderr",
     "output_type": "stream",
     "text": [
      "2020-10-07 22:19:30,505 root         INFO     Saved file standard_scaler.joblib in dir ./litscore/models/\n",
      "2020-10-07 22:19:31,422 root         INFO     Saved file RF.joblib in dir ./litscore/models/\n"
     ]
    }
   ],
   "source": [
    "trainer.save_model(scaler = True, model = True, replace = True)"
   ]
  }
 ],
 "metadata": {
  "kernelspec": {
   "display_name": "Python 3.7.6 64-bit",
   "language": "python",
   "name": "python37664bitfc8300634b1e462eaa0d9dbf574db025"
  },
  "language_info": {
   "codemirror_mode": {
    "name": "ipython",
    "version": 3
   },
   "file_extension": ".py",
   "mimetype": "text/x-python",
   "name": "python",
   "nbconvert_exporter": "python",
   "pygments_lexer": "ipython3",
   "version": "3.7.9"
  }
 },
 "nbformat": 4,
 "nbformat_minor": 4
}
